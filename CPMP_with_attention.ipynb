{
 "cells": [
  {
   "cell_type": "markdown",
   "metadata": {},
   "source": [
    "# Librerías"
   ]
  },
  {
   "cell_type": "code",
   "execution_count": null,
   "metadata": {},
   "outputs": [],
   "source": [
    "from clever_cpmp.utils import load_data\n",
    "from clever_cpmp.utils import load_data_mongo\n",
    "from clever_cpmp.utils import connect_to_server\n",
    "from clever_cpmp.model import load_cpmp_model\n",
    "from clever_cpmp.model import create_model\n",
    "from clever_cpmp.model import reinforcement_training\n",
    "from cpmp_ml.optimizer import GreedyV1\n",
    "from cpmp_ml.optimizer import GreedyV2\n",
    "from cpmp_ml.utils.adapters import AttentionModel\n",
    "from cpmp_ml.validations import validate_model"
   ]
  },
  {
   "cell_type": "markdown",
   "metadata": {},
   "source": [
    "# Cargar Data"
   ]
  },
  {
   "cell_type": "code",
   "execution_count": null,
   "metadata": {},
   "outputs": [],
   "source": [
    "MONGO_URI_MODEL_V2 = 'mongodb+srv://<Username>:<Password>@cluster0.p9y0etq.mongodb.net/'\n",
    "MONGO_URI_LOCAL = \"mongodb://localhost:27017/\""
   ]
  },
  {
   "cell_type": "markdown",
   "metadata": {},
   "source": [
    "## Local"
   ]
  },
  {
   "cell_type": "code",
   "execution_count": null,
   "metadata": {},
   "outputs": [],
   "source": [
    "data_5x5, labels_5x5 = load_data('Data_CPMP/Data_Model_v2/data_5x5_Multiple.csv')"
   ]
  },
  {
   "cell_type": "code",
   "execution_count": null,
   "metadata": {},
   "outputs": [],
   "source": [
    "data_7x7, labels_7x7 = load_data('data/data_7x7_Multiple.csv')"
   ]
  },
  {
   "cell_type": "markdown",
   "metadata": {},
   "source": [
    "## MongoDB"
   ]
  },
  {
   "cell_type": "markdown",
   "metadata": {},
   "source": [
    "### Modelo v2"
   ]
  },
  {
   "cell_type": "code",
   "execution_count": null,
   "metadata": {},
   "outputs": [],
   "source": [
    "client_v2 = connect_to_server(MONGO_URI_MODEL_V2)\n",
    "\n",
    "base_de_datos = client_v2.data_Model_v2\n",
    "data_5x5, labels_5x5 = load_data_mongo(base_de_datos.data_5x5)\n",
    "\n",
    "client_v2.close()"
   ]
  },
  {
   "cell_type": "code",
   "execution_count": null,
   "metadata": {},
   "outputs": [],
   "source": [
    "client_v2 = connect_to_server(MONGO_URI_MODEL_V2)\n",
    "\n",
    "base_de_datos = client_v2.data_Model_v2\n",
    "data_7x7, labels_7x7 = load_data_mongo(base_de_datos.data_7x7)\n",
    "\n",
    "client_v2.close()"
   ]
  },
  {
   "cell_type": "markdown",
   "metadata": {},
   "source": [
    "### Local"
   ]
  },
  {
   "cell_type": "code",
   "execution_count": null,
   "metadata": {},
   "outputs": [],
   "source": [
    "client_local = connect_to_server(MONGO_URI_LOCAL)\n",
    "\n",
    "base_de_datos = client_local['data_model_v2-1']\n",
    "data_5x5 = load_data_mongo(base_de_datos.data_5x5)\n",
    "\n",
    "client_local.close()"
   ]
  },
  {
   "cell_type": "markdown",
   "metadata": {},
   "source": [
    "# Cargar Modelos"
   ]
  },
  {
   "cell_type": "code",
   "execution_count": null,
   "metadata": {},
   "outputs": [],
   "source": [
    "model_Sx7 = load_cpmp_model(\"./models/model_Sx7.h5\")"
   ]
  },
  {
   "cell_type": "markdown",
   "metadata": {},
   "source": [
    "# Modelo Sx5"
   ]
  },
  {
   "cell_type": "code",
   "execution_count": null,
   "metadata": {},
   "outputs": [],
   "source": [
    "model_Sx5 = create_model(5, 5, 'Adam', num_stacks= 3)"
   ]
  },
  {
   "cell_type": "markdown",
   "metadata": {},
   "source": [
    "## Entrenamiento"
   ]
  },
  {
   "cell_type": "code",
   "execution_count": null,
   "metadata": {},
   "outputs": [],
   "source": [
    "for stack in data_5x5:\n",
    "    model_Sx5.fit(data_5x5[stack][\"States\"], data_5x5[stack][\"Labels\"], batch_size= 32, epochs= 20)"
   ]
  },
  {
   "cell_type": "markdown",
   "metadata": {},
   "source": [
    "## Testing"
   ]
  },
  {
   "cell_type": "code",
   "execution_count": null,
   "metadata": {},
   "outputs": [],
   "source": [
    "validate_model(model_Sx5, GreedyV1(), AttentionModel(), 5, 5, 15, size_states= 1000)"
   ]
  },
  {
   "cell_type": "code",
   "execution_count": null,
   "metadata": {},
   "outputs": [],
   "source": [
    "validate_model(model_Sx5, GreedyV2(), AttentionModel(), 5, 5, 15, size_states= 1000, max_steps= 30)"
   ]
  },
  {
   "cell_type": "code",
   "execution_count": null,
   "metadata": {},
   "outputs": [],
   "source": [
    "model_Sx5.save(\"./models/model_Sx5.h5\")"
   ]
  },
  {
   "cell_type": "markdown",
   "metadata": {},
   "source": [
    "# Reinforcement Learning"
   ]
  },
  {
   "cell_type": "code",
   "execution_count": null,
   "metadata": {},
   "outputs": [],
   "source": [
    "reinforcement_training(model_Sx5, 5, 5, 15, GreedyV2(), AttentionModel(), iter= 2, max_steps= 30, epochs= 10, batch_size= 50)"
   ]
  }
 ],
 "metadata": {
  "kernelspec": {
   "display_name": ".venv",
   "language": "python",
   "name": "python3"
  },
  "language_info": {
   "name": "python",
   "version": "3.11.9"
  }
 },
 "nbformat": 4,
 "nbformat_minor": 2
}
