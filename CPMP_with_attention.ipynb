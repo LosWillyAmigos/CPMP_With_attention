{
 "cells": [
  {
   "cell_type": "markdown",
   "metadata": {},
   "source": [
    "# Librerías"
   ]
  },
  {
   "cell_type": "code",
   "execution_count": 1,
   "metadata": {},
   "outputs": [],
   "source": [
    "from attentional_cpmp.utils import load_data\n",
    "from attentional_cpmp.utils import load_data_mongo\n",
    "from attentional_cpmp.utils import connect_to_server\n",
    "from attentional_cpmp.model import load_cpmp_model\n",
    "from attentional_cpmp.model import create_model\n",
    "from attentional_cpmp.model import reinforcement_training\n",
    "from cpmp_ml.optimizer import GreedyV1\n",
    "from cpmp_ml.optimizer import GreedyV2\n",
    "from cpmp_ml.utils.adapters import AttentionModel\n",
    "from cpmp_ml.validations import validate_model"
   ]
  },
  {
   "cell_type": "markdown",
   "metadata": {},
   "source": [
    "# Cargar Data"
   ]
  },
  {
   "cell_type": "code",
   "execution_count": 2,
   "metadata": {},
   "outputs": [],
   "source": [
    "MONGO_URI_MODEL_V2 = 'mongodb+srv://<Username>:<Password>@cluster0.p9y0etq.mongodb.net/'\n",
    "MONGO_URI_LOCAL = \"mongodb://localhost:27017/\""
   ]
  },
  {
   "cell_type": "markdown",
   "metadata": {},
   "source": [
    "## Local"
   ]
  },
  {
   "cell_type": "code",
   "execution_count": null,
   "metadata": {},
   "outputs": [],
   "source": [
    "data_5x5, labels_5x5 = load_data('Data_CPMP/Data_Model_v2/data_5x5_Multiple.csv')"
   ]
  },
  {
   "cell_type": "code",
   "execution_count": null,
   "metadata": {},
   "outputs": [],
   "source": [
    "data_7x7, labels_7x7 = load_data('data/data_7x7_Multiple.csv')"
   ]
  },
  {
   "cell_type": "markdown",
   "metadata": {},
   "source": [
    "## MongoDB"
   ]
  },
  {
   "cell_type": "markdown",
   "metadata": {},
   "source": [
    "### Modelo v2"
   ]
  },
  {
   "cell_type": "code",
   "execution_count": null,
   "metadata": {},
   "outputs": [],
   "source": [
    "client_v2 = connect_to_server(MONGO_URI_MODEL_V2)\n",
    "\n",
    "base_de_datos = client_v2.data_Model_v2\n",
    "data_5x5, labels_5x5 = load_data_mongo(base_de_datos.data_5x5)\n",
    "\n",
    "client_v2.close()"
   ]
  },
  {
   "cell_type": "code",
   "execution_count": null,
   "metadata": {},
   "outputs": [],
   "source": [
    "client_v2 = connect_to_server(MONGO_URI_MODEL_V2)\n",
    "\n",
    "base_de_datos = client_v2.data_Model_v2\n",
    "data_7x7, labels_7x7 = load_data_mongo(base_de_datos.data_7x7)\n",
    "\n",
    "client_v2.close()"
   ]
  },
  {
   "cell_type": "markdown",
   "metadata": {},
   "source": [
    "### Local"
   ]
  },
  {
   "cell_type": "code",
   "execution_count": 3,
   "metadata": {},
   "outputs": [
    {
     "name": "stdout",
     "output_type": "stream",
     "text": [
      "Conection Success\n"
     ]
    }
   ],
   "source": [
    "client_local = connect_to_server(MONGO_URI_LOCAL)\n",
    "\n",
    "base_de_datos = client_local['CPMP_With_Attention']\n",
    "data_Sx7 = load_data_mongo(base_de_datos[\"Sx7_v3\"])\n",
    "\n",
    "client_local.close()"
   ]
  },
  {
   "cell_type": "markdown",
   "metadata": {},
   "source": [
    "# Cargar Modelos"
   ]
  },
  {
   "cell_type": "code",
   "execution_count": 4,
   "metadata": {},
   "outputs": [],
   "source": [
    "model_Sx7 = load_cpmp_model(\"./models/Sx7/model_Sx7.h5\")"
   ]
  },
  {
   "cell_type": "markdown",
   "metadata": {},
   "source": [
    "# Modelo Sx5"
   ]
  },
  {
   "cell_type": "code",
   "execution_count": 5,
   "metadata": {},
   "outputs": [],
   "source": [
    "model_Sx5 = create_model(5, 5, 'Adam', num_stacks= 3)"
   ]
  },
  {
   "cell_type": "markdown",
   "metadata": {},
   "source": [
    "## Entrenamiento"
   ]
  },
  {
   "cell_type": "code",
   "execution_count": 5,
   "metadata": {},
   "outputs": [
    {
     "name": "stdout",
     "output_type": "stream",
     "text": [
      "Epoch 1/50\n",
      "6222/6222 [==============================] - 80s 12ms/step - loss: 0.1439 - mae: 0.0866 - mse: 0.0429\n",
      "Epoch 2/50\n",
      "6222/6222 [==============================] - 75s 12ms/step - loss: 0.0968 - mae: 0.0573 - mse: 0.0287\n",
      "Epoch 3/50\n",
      "6222/6222 [==============================] - 75s 12ms/step - loss: 0.0877 - mae: 0.0516 - mse: 0.0258\n",
      "Epoch 4/50\n",
      "6222/6222 [==============================] - 74s 12ms/step - loss: 0.0822 - mae: 0.0483 - mse: 0.0241\n",
      "Epoch 5/50\n",
      "6222/6222 [==============================] - 75s 12ms/step - loss: 0.0778 - mae: 0.0457 - mse: 0.0228\n",
      "Epoch 6/50\n",
      "6222/6222 [==============================] - 74s 12ms/step - loss: 0.0744 - mae: 0.0438 - mse: 0.0218\n",
      "Epoch 7/50\n",
      "6222/6222 [==============================] - 75s 12ms/step - loss: 0.0720 - mae: 0.0425 - mse: 0.0212\n",
      "Epoch 8/50\n",
      "6222/6222 [==============================] - 81s 13ms/step - loss: 0.0703 - mae: 0.0416 - mse: 0.0207\n",
      "Epoch 9/50\n",
      "6222/6222 [==============================] - 76s 12ms/step - loss: 0.0690 - mae: 0.0409 - mse: 0.0204\n",
      "Epoch 10/50\n",
      "6222/6222 [==============================] - 76s 12ms/step - loss: 0.0679 - mae: 0.0403 - mse: 0.0201\n",
      "Epoch 11/50\n",
      "6222/6222 [==============================] - 74s 12ms/step - loss: 0.0669 - mae: 0.0398 - mse: 0.0198\n",
      "Epoch 12/50\n",
      "6222/6222 [==============================] - 76s 12ms/step - loss: 0.0661 - mae: 0.0393 - mse: 0.0195\n",
      "Epoch 13/50\n",
      "6222/6222 [==============================] - 75s 12ms/step - loss: 0.0652 - mae: 0.0388 - mse: 0.0193\n",
      "Epoch 14/50\n",
      "6222/6222 [==============================] - 77s 12ms/step - loss: 0.0645 - mae: 0.0383 - mse: 0.0191\n",
      "Epoch 15/50\n",
      "6222/6222 [==============================] - 76s 12ms/step - loss: 0.0638 - mae: 0.0379 - mse: 0.0189\n",
      "Epoch 16/50\n",
      "6222/6222 [==============================] - 76s 12ms/step - loss: 0.0630 - mae: 0.0374 - mse: 0.0186\n",
      "Epoch 17/50\n",
      "6222/6222 [==============================] - 75s 12ms/step - loss: 0.0624 - mae: 0.0370 - mse: 0.0184\n",
      "Epoch 18/50\n",
      "6222/6222 [==============================] - 81s 13ms/step - loss: 0.0618 - mae: 0.0366 - mse: 0.0182\n",
      "Epoch 19/50\n",
      "6222/6222 [==============================] - 80s 13ms/step - loss: 0.0609 - mae: 0.0361 - mse: 0.0180\n",
      "Epoch 20/50\n",
      "6222/6222 [==============================] - 82s 13ms/step - loss: 0.0604 - mae: 0.0358 - mse: 0.0178\n",
      "Epoch 21/50\n",
      "6222/6222 [==============================] - 76s 12ms/step - loss: 0.0598 - mae: 0.0354 - mse: 0.0176\n",
      "Epoch 22/50\n",
      "6222/6222 [==============================] - 75s 12ms/step - loss: 0.0575 - mae: 0.0338 - mse: 0.0168\n",
      "Epoch 23/50\n",
      "6222/6222 [==============================] - 76s 12ms/step - loss: 0.0558 - mae: 0.0325 - mse: 0.0162\n",
      "Epoch 24/50\n",
      "6222/6222 [==============================] - 78s 13ms/step - loss: 0.0548 - mae: 0.0318 - mse: 0.0158\n",
      "Epoch 25/50\n",
      "6222/6222 [==============================] - 77s 12ms/step - loss: 0.0541 - mae: 0.0314 - mse: 0.0156\n",
      "Epoch 26/50\n",
      "6222/6222 [==============================] - 75s 12ms/step - loss: 0.0536 - mae: 0.0312 - mse: 0.0155\n",
      "Epoch 27/50\n",
      "6222/6222 [==============================] - 75s 12ms/step - loss: 0.0531 - mae: 0.0308 - mse: 0.0153\n",
      "Epoch 28/50\n",
      "6222/6222 [==============================] - 78s 13ms/step - loss: 0.0527 - mae: 0.0306 - mse: 0.0152\n",
      "Epoch 29/50\n",
      "6222/6222 [==============================] - 78s 13ms/step - loss: 0.0522 - mae: 0.0303 - mse: 0.0151\n",
      "Epoch 30/50\n",
      "6222/6222 [==============================] - 78s 13ms/step - loss: 0.0521 - mae: 0.0302 - mse: 0.0150\n",
      "Epoch 31/50\n",
      "6222/6222 [==============================] - 77s 12ms/step - loss: 0.0517 - mae: 0.0300 - mse: 0.0149\n",
      "Epoch 32/50\n",
      "6222/6222 [==============================] - 76s 12ms/step - loss: 0.0513 - mae: 0.0298 - mse: 0.0148\n",
      "Epoch 33/50\n",
      "6222/6222 [==============================] - 76s 12ms/step - loss: 0.0512 - mae: 0.0297 - mse: 0.0148\n",
      "Epoch 34/50\n",
      "6222/6222 [==============================] - 77s 12ms/step - loss: 0.0510 - mae: 0.0296 - mse: 0.0147\n",
      "Epoch 35/50\n",
      "6222/6222 [==============================] - 77s 12ms/step - loss: 0.0505 - mae: 0.0293 - mse: 0.0146\n",
      "Epoch 36/50\n",
      "6222/6222 [==============================] - 77s 12ms/step - loss: 0.0505 - mae: 0.0293 - mse: 0.0146\n",
      "Epoch 37/50\n",
      "6222/6222 [==============================] - 77s 12ms/step - loss: 0.0502 - mae: 0.0291 - mse: 0.0145\n",
      "Epoch 38/50\n",
      "6222/6222 [==============================] - 78s 13ms/step - loss: 0.0499 - mae: 0.0290 - mse: 0.0144\n",
      "Epoch 39/50\n",
      "6222/6222 [==============================] - 78s 12ms/step - loss: 0.0497 - mae: 0.0289 - mse: 0.0144\n",
      "Epoch 40/50\n",
      "6222/6222 [==============================] - 79s 13ms/step - loss: 0.0493 - mae: 0.0286 - mse: 0.0143\n",
      "Epoch 41/50\n",
      "6222/6222 [==============================] - 83s 13ms/step - loss: 0.0494 - mae: 0.0287 - mse: 0.0143\n",
      "Epoch 42/50\n",
      "6222/6222 [==============================] - 83s 13ms/step - loss: 0.0492 - mae: 0.0286 - mse: 0.0142\n",
      "Epoch 43/50\n",
      "6222/6222 [==============================] - 87s 14ms/step - loss: 0.0490 - mae: 0.0284 - mse: 0.0142\n",
      "Epoch 44/50\n",
      "6222/6222 [==============================] - 75s 12ms/step - loss: 0.0489 - mae: 0.0284 - mse: 0.0141\n",
      "Epoch 45/50\n",
      "6222/6222 [==============================] - 76s 12ms/step - loss: 0.0487 - mae: 0.0283 - mse: 0.0141\n",
      "Epoch 46/50\n",
      "6222/6222 [==============================] - 76s 12ms/step - loss: 0.0485 - mae: 0.0282 - mse: 0.0140\n",
      "Epoch 47/50\n",
      "6222/6222 [==============================] - 569s 91ms/step - loss: 0.0484 - mae: 0.0281 - mse: 0.0140\n",
      "Epoch 48/50\n",
      "6222/6222 [==============================] - 76s 12ms/step - loss: 0.0484 - mae: 0.0281 - mse: 0.0140\n",
      "Epoch 49/50\n",
      "6222/6222 [==============================] - 78s 13ms/step - loss: 0.0482 - mae: 0.0280 - mse: 0.0139\n",
      "Epoch 50/50\n",
      "6222/6222 [==============================] - 82s 13ms/step - loss: 0.0481 - mae: 0.0279 - mse: 0.0139\n"
     ]
    }
   ],
   "source": [
    "for stack in data_5x5:\n",
    "    model_Sx5.fit(data_5x5[stack][\"States\"], data_5x5[stack][\"Labels\"], batch_size= 32, epochs= 50)"
   ]
  },
  {
   "cell_type": "markdown",
   "metadata": {},
   "source": [
    "## Testing"
   ]
  },
  {
   "cell_type": "code",
   "execution_count": 6,
   "metadata": {},
   "outputs": [
    {
     "name": "stdout",
     "output_type": "stream",
     "text": [
      "success heuristic (%): 6.0 6.35\n",
      "mean steps: 6.35\n",
      "median steps: 6.0\n",
      "min steps: 1.0\n",
      "max steps: 10.0\n",
      "\n"
     ]
    },
    {
     "data": {
      "text/plain": [
       "(0.0, 6.0)"
      ]
     },
     "execution_count": 6,
     "metadata": {},
     "output_type": "execute_result"
    }
   ],
   "source": [
    "validate_model(model_Sx5, GreedyV1(), AttentionModel(), 5, 5, 15, size_states= 1000, max_steps= 30)"
   ]
  },
  {
   "cell_type": "code",
   "execution_count": 7,
   "metadata": {},
   "outputs": [
    {
     "name": "stdout",
     "output_type": "stream",
     "text": [
      "success ann model (%): 0.1\n",
      "mean steps: 0.0\n",
      "median steps: 0.0\n",
      "min steps: 0.0\n",
      "max steps: 0.0\n",
      "\n",
      "success heuristic (%): 100.0 12.286\n",
      "mean steps: 12.286\n",
      "median steps: 12.0\n",
      "min steps: 0.0\n",
      "max steps: 27.0\n",
      "\n"
     ]
    },
    {
     "data": {
      "text/plain": [
       "(0.1, 100.0)"
      ]
     },
     "execution_count": 7,
     "metadata": {},
     "output_type": "execute_result"
    }
   ],
   "source": [
    "validate_model(model_Sx5, GreedyV2(), AttentionModel(), 5, 5, 15, size_states= 1000, max_steps= 30)"
   ]
  },
  {
   "cell_type": "code",
   "execution_count": null,
   "metadata": {},
   "outputs": [],
   "source": [
    "model_Sx5.save(\"./models/model_Sx5.h5\")"
   ]
  },
  {
   "cell_type": "markdown",
   "metadata": {},
   "source": [
    "## Model Sx7"
   ]
  },
  {
   "cell_type": "code",
   "execution_count": 6,
   "metadata": {},
   "outputs": [],
   "source": [
    "model_Sx7 = create_model(5, 7, num_stacks= 7)"
   ]
  },
  {
   "cell_type": "markdown",
   "metadata": {},
   "source": [
    "### Entrenamiento"
   ]
  },
  {
   "cell_type": "code",
   "execution_count": 8,
   "metadata": {},
   "outputs": [
    {
     "name": "stdout",
     "output_type": "stream",
     "text": [
      "Epoch 1/10\n",
      "520/520 [==============================] - 34s 56ms/step - loss: 0.1163 - mae: 0.0567 - mse: 0.0273\n",
      "Epoch 2/10\n",
      "520/520 [==============================] - 30s 58ms/step - loss: 0.0783 - mae: 0.0486 - mse: 0.0240\n",
      "Epoch 3/10\n",
      "520/520 [==============================] - 30s 58ms/step - loss: 0.0708 - mae: 0.0443 - mse: 0.0221\n",
      "Epoch 4/10\n",
      "520/520 [==============================] - 30s 58ms/step - loss: 0.0601 - mae: 0.0380 - mse: 0.0189\n",
      "Epoch 5/10\n",
      "520/520 [==============================] - 30s 58ms/step - loss: 0.0522 - mae: 0.0328 - mse: 0.0162\n",
      "Epoch 6/10\n",
      "520/520 [==============================] - 30s 58ms/step - loss: 0.0486 - mae: 0.0304 - mse: 0.0151\n",
      "Epoch 7/10\n",
      "520/520 [==============================] - 30s 58ms/step - loss: 0.0463 - mae: 0.0289 - mse: 0.0144\n",
      "Epoch 8/10\n",
      "520/520 [==============================] - 30s 58ms/step - loss: 0.0449 - mae: 0.0281 - mse: 0.0140\n",
      "Epoch 9/10\n",
      "520/520 [==============================] - 30s 58ms/step - loss: 0.0437 - mae: 0.0275 - mse: 0.0137\n",
      "Epoch 10/10\n",
      "520/520 [==============================] - 30s 58ms/step - loss: 0.0429 - mae: 0.0269 - mse: 0.0135\n",
      "Epoch 1/10\n",
      "528/528 [==============================] - 13s 21ms/step - loss: 0.0630 - mae: 0.0400 - mse: 0.0200\n",
      "Epoch 2/10\n",
      "528/528 [==============================] - 12s 22ms/step - loss: 0.0598 - mae: 0.0382 - mse: 0.0191\n",
      "Epoch 3/10\n",
      "528/528 [==============================] - 12s 22ms/step - loss: 0.0580 - mae: 0.0372 - mse: 0.0187\n",
      "Epoch 4/10\n",
      "528/528 [==============================] - 11s 22ms/step - loss: 0.0566 - mae: 0.0364 - mse: 0.0182\n",
      "Epoch 5/10\n",
      "528/528 [==============================] - 12s 22ms/step - loss: 0.0557 - mae: 0.0359 - mse: 0.0180\n",
      "Epoch 6/10\n",
      "528/528 [==============================] - 12s 22ms/step - loss: 0.0386 - mae: 0.0231 - mse: 0.0115\n",
      "Epoch 7/10\n",
      "528/528 [==============================] - 12s 22ms/step - loss: 0.0316 - mae: 0.0185 - mse: 0.0091\n",
      "Epoch 8/10\n",
      "528/528 [==============================] - 12s 22ms/step - loss: 0.0295 - mae: 0.0170 - mse: 0.0085\n",
      "Epoch 9/10\n",
      "528/528 [==============================] - 12s 22ms/step - loss: 0.0283 - mae: 0.0164 - mse: 0.0082\n",
      "Epoch 10/10\n",
      "528/528 [==============================] - 12s 22ms/step - loss: 0.0271 - mae: 0.0157 - mse: 0.0079\n",
      "Epoch 1/10\n",
      "519/519 [==============================] - 13s 26ms/step - loss: 0.0246 - mae: 0.0139 - mse: 0.0069\n",
      "Epoch 2/10\n",
      "519/519 [==============================] - 13s 25ms/step - loss: 0.0235 - mae: 0.0134 - mse: 0.0067\n",
      "Epoch 3/10\n",
      "519/519 [==============================] - 13s 26ms/step - loss: 0.0224 - mae: 0.0128 - mse: 0.0064\n",
      "Epoch 4/10\n",
      "519/519 [==============================] - 15s 29ms/step - loss: 0.0218 - mae: 0.0124 - mse: 0.0062\n",
      "Epoch 5/10\n",
      "519/519 [==============================] - 16s 31ms/step - loss: 0.0214 - mae: 0.0122 - mse: 0.0061\n",
      "Epoch 6/10\n",
      "519/519 [==============================] - 16s 31ms/step - loss: 0.0210 - mae: 0.0120 - mse: 0.0060\n",
      "Epoch 7/10\n",
      "519/519 [==============================] - 16s 31ms/step - loss: 0.0206 - mae: 0.0118 - mse: 0.0059\n",
      "Epoch 8/10\n",
      "519/519 [==============================] - 16s 31ms/step - loss: 0.0203 - mae: 0.0115 - mse: 0.0058\n",
      "Epoch 9/10\n",
      "519/519 [==============================] - 16s 31ms/step - loss: 0.0197 - mae: 0.0112 - mse: 0.0056\n",
      "Epoch 10/10\n",
      "519/519 [==============================] - 16s 31ms/step - loss: 0.0197 - mae: 0.0113 - mse: 0.0056\n",
      "Epoch 1/10\n",
      "537/537 [==============================] - 23s 43ms/step - loss: 0.0182 - mae: 0.0103 - mse: 0.0051\n",
      "Epoch 2/10\n",
      "537/537 [==============================] - 23s 43ms/step - loss: 0.0171 - mae: 0.0097 - mse: 0.0048\n",
      "Epoch 3/10\n",
      "537/537 [==============================] - 23s 43ms/step - loss: 0.0165 - mae: 0.0093 - mse: 0.0047\n",
      "Epoch 4/10\n",
      "537/537 [==============================] - 23s 43ms/step - loss: 0.0163 - mae: 0.0092 - mse: 0.0046\n",
      "Epoch 5/10\n",
      "537/537 [==============================] - 23s 43ms/step - loss: 0.0158 - mae: 0.0090 - mse: 0.0045\n",
      "Epoch 6/10\n",
      "537/537 [==============================] - 23s 43ms/step - loss: 0.0156 - mae: 0.0088 - mse: 0.0044\n",
      "Epoch 7/10\n",
      "537/537 [==============================] - 23s 43ms/step - loss: 0.0154 - mae: 0.0087 - mse: 0.0044\n",
      "Epoch 8/10\n",
      "537/537 [==============================] - 23s 43ms/step - loss: 0.0151 - mae: 0.0086 - mse: 0.0043\n",
      "Epoch 9/10\n",
      "537/537 [==============================] - 23s 42ms/step - loss: 0.0148 - mae: 0.0084 - mse: 0.0042\n",
      "Epoch 10/10\n",
      "537/537 [==============================] - 22s 41ms/step - loss: 0.0148 - mae: 0.0084 - mse: 0.0042\n",
      "Epoch 1/10\n",
      "528/528 [==============================] - 18s 33ms/step - loss: 0.0185 - mae: 0.0104 - mse: 0.0052\n",
      "Epoch 2/10\n",
      "528/528 [==============================] - 18s 33ms/step - loss: 0.0177 - mae: 0.0100 - mse: 0.0050\n",
      "Epoch 3/10\n",
      "528/528 [==============================] - 21s 41ms/step - loss: 0.0174 - mae: 0.0098 - mse: 0.0049\n",
      "Epoch 4/10\n",
      "528/528 [==============================] - 18s 34ms/step - loss: 0.0174 - mae: 0.0098 - mse: 0.0049\n",
      "Epoch 5/10\n",
      "528/528 [==============================] - 18s 33ms/step - loss: 0.0168 - mae: 0.0095 - mse: 0.0047\n",
      "Epoch 6/10\n",
      "528/528 [==============================] - 18s 33ms/step - loss: 0.0167 - mae: 0.0095 - mse: 0.0047\n",
      "Epoch 7/10\n",
      "528/528 [==============================] - 18s 34ms/step - loss: 0.0163 - mae: 0.0093 - mse: 0.0046\n",
      "Epoch 8/10\n",
      "528/528 [==============================] - 18s 34ms/step - loss: 0.0162 - mae: 0.0093 - mse: 0.0046\n",
      "Epoch 9/10\n",
      "528/528 [==============================] - 18s 34ms/step - loss: 0.0160 - mae: 0.0091 - mse: 0.0046\n",
      "Epoch 10/10\n",
      "528/528 [==============================] - 19s 36ms/step - loss: 0.0158 - mae: 0.0090 - mse: 0.0045\n",
      "Epoch 1/10\n",
      "496/496 [==============================] - 11s 23ms/step - loss: 0.0284 - mae: 0.0166 - mse: 0.0083\n",
      "Epoch 2/10\n",
      "496/496 [==============================] - 12s 23ms/step - loss: 0.0247 - mae: 0.0146 - mse: 0.0072\n",
      "Epoch 3/10\n",
      "496/496 [==============================] - 12s 24ms/step - loss: 0.0240 - mae: 0.0141 - mse: 0.0070\n",
      "Epoch 4/10\n",
      "496/496 [==============================] - 12s 24ms/step - loss: 0.0245 - mae: 0.0144 - mse: 0.0072\n",
      "Epoch 5/10\n",
      "496/496 [==============================] - 12s 25ms/step - loss: 0.0230 - mae: 0.0137 - mse: 0.0068\n",
      "Epoch 6/10\n",
      "496/496 [==============================] - 12s 25ms/step - loss: 0.0226 - mae: 0.0135 - mse: 0.0067\n",
      "Epoch 7/10\n",
      "496/496 [==============================] - 12s 25ms/step - loss: 0.0218 - mae: 0.0131 - mse: 0.0065\n",
      "Epoch 8/10\n",
      "496/496 [==============================] - 12s 25ms/step - loss: 0.0213 - mae: 0.0129 - mse: 0.0064\n",
      "Epoch 9/10\n",
      "496/496 [==============================] - 12s 25ms/step - loss: 0.0210 - mae: 0.0126 - mse: 0.0063\n",
      "Epoch 10/10\n",
      "496/496 [==============================] - 12s 25ms/step - loss: 0.0208 - mae: 0.0125 - mse: 0.0062\n"
     ]
    }
   ],
   "source": [
    "for stack in data_Sx7:\n",
    "    model_Sx7.fit(data_Sx7[stack][\"States\"], data_Sx7[stack][\"Labels\"], batch_size= 32, epochs= 10)"
   ]
  },
  {
   "cell_type": "code",
   "execution_count": 10,
   "metadata": {},
   "outputs": [
    {
     "name": "stderr",
     "output_type": "stream",
     "text": [
      "/Users/slinking/Desktop/Workspace/CPMP_With_attention/.venv/lib/python3.11/site-packages/keras/src/engine/training.py:3103: UserWarning: You are saving your model as an HDF5 file via `model.save()`. This file format is considered legacy. We recommend using instead the native Keras format, e.g. `model.save('my_model.keras')`.\n",
      "  saving_api.save_model(\n"
     ]
    }
   ],
   "source": [
    "model_Sx7.save(\"./models/Sx7/model_Sx7.h5\")"
   ]
  },
  {
   "cell_type": "code",
   "execution_count": 5,
   "metadata": {},
   "outputs": [
    {
     "ename": "TypeError",
     "evalue": "'int' object is not iterable",
     "output_type": "error",
     "traceback": [
      "\u001b[0;31m---------------------------------------------------------------------------\u001b[0m",
      "\u001b[0;31mTypeError\u001b[0m                                 Traceback (most recent call last)",
      "Cell \u001b[0;32mIn[5], line 1\u001b[0m\n\u001b[0;32m----> 1\u001b[0m \u001b[43mvalidate_model\u001b[49m\u001b[43m(\u001b[49m\u001b[43mmodel_Sx7\u001b[49m\u001b[43m,\u001b[49m\u001b[43m \u001b[49m\u001b[43mGreedyV2\u001b[49m\u001b[43m(\u001b[49m\u001b[43m)\u001b[49m\u001b[43m,\u001b[49m\u001b[43m \u001b[49m\u001b[43mAttentionModel\u001b[49m\u001b[43m(\u001b[49m\u001b[43m)\u001b[49m\u001b[43m,\u001b[49m\u001b[43m \u001b[49m\u001b[38;5;241;43m10\u001b[39;49m\u001b[43m,\u001b[49m\u001b[43m \u001b[49m\u001b[38;5;241;43m7\u001b[39;49m\u001b[43m,\u001b[49m\u001b[43m \u001b[49m\u001b[38;5;241;43m50\u001b[39;49m\u001b[43m,\u001b[49m\u001b[43m \u001b[49m\u001b[38;5;241;43m1000\u001b[39;49m\u001b[43m,\u001b[49m\u001b[43m \u001b[49m\u001b[43mmax_steps\u001b[49m\u001b[38;5;241;43m=\u001b[39;49m\u001b[43m \u001b[49m\u001b[38;5;241;43m100\u001b[39;49m\u001b[43m)\u001b[49m\n",
      "File \u001b[0;32m~/Desktop/Workspace/CPMP_With_attention/.venv/lib/python3.11/site-packages/cpmp_ml/validations/metrics.py:18\u001b[0m, in \u001b[0;36mvalidate_model\u001b[0;34m(model, optimizer, data_adapter, S, H, N, size_states, benchmark_csv, **kwargs)\u001b[0m\n\u001b[1;32m     15\u001b[0m     lays \u001b[38;5;241m=\u001b[39m [generate_random_layout(S, H, N) \u001b[38;5;28;01mfor\u001b[39;00m _ \u001b[38;5;129;01min\u001b[39;00m \u001b[38;5;28mrange\u001b[39m(size_states)]\n\u001b[1;32m     17\u001b[0m lays1 \u001b[38;5;241m=\u001b[39m deepcopy(lays)\n\u001b[0;32m---> 18\u001b[0m costs1 \u001b[38;5;241m=\u001b[39m \u001b[43moptimizer_model\u001b[49m\u001b[38;5;241;43m.\u001b[39;49m\u001b[43msolve\u001b[49m\u001b[43m(\u001b[49m\u001b[43mnp\u001b[49m\u001b[38;5;241;43m.\u001b[39;49m\u001b[43marray\u001b[49m\u001b[43m(\u001b[49m\u001b[43mlays1\u001b[49m\u001b[43m)\u001b[49m\u001b[43m,\u001b[49m\u001b[43m \u001b[49m\u001b[38;5;241;43m*\u001b[39;49m\u001b[38;5;241;43m*\u001b[39;49m\u001b[43mkwargs\u001b[49m\u001b[43m)\u001b[49m[\u001b[38;5;241m0\u001b[39m]\n\u001b[1;32m     19\u001b[0m costs2 \u001b[38;5;241m=\u001b[39m optimizer\u001b[38;5;241m.\u001b[39msolve(np\u001b[38;5;241m.\u001b[39marray(lays), \u001b[38;5;241m*\u001b[39m\u001b[38;5;241m*\u001b[39mkwargs)[\u001b[38;5;241m0\u001b[39m]\n\u001b[1;32m     21\u001b[0m valid_costs1 \u001b[38;5;241m=\u001b[39m [v \u001b[38;5;28;01mfor\u001b[39;00m v \u001b[38;5;129;01min\u001b[39;00m costs1 \u001b[38;5;28;01mif\u001b[39;00m v\u001b[38;5;241m!=\u001b[39m\u001b[38;5;241m-\u001b[39m\u001b[38;5;241m1\u001b[39m]\n",
      "File \u001b[0;32m~/Desktop/Workspace/CPMP_With_attention/.venv/lib/python3.11/site-packages/cpmp_ml/optimizer/GreedyModel.py:19\u001b[0m, in \u001b[0;36mGreedyModel.solve\u001b[0;34m(self, lays, **kwargs)\u001b[0m\n\u001b[1;32m     17\u001b[0m costs \u001b[38;5;241m=\u001b[39m \u001b[38;5;241m-\u001b[39mnp\u001b[38;5;241m.\u001b[39mones(lays\u001b[38;5;241m.\u001b[39mshape[\u001b[38;5;241m0\u001b[39m])\n\u001b[1;32m     18\u001b[0m max_steps \u001b[38;5;241m=\u001b[39m kwargs[\u001b[38;5;124m\"\u001b[39m\u001b[38;5;124mmax_steps\u001b[39m\u001b[38;5;124m\"\u001b[39m]\n\u001b[0;32m---> 19\u001b[0m lays_moves \u001b[38;5;241m=\u001b[39m \u001b[43m[\u001b[49m\u001b[43m[\u001b[49m\u001b[43m]\u001b[49m\u001b[43m \u001b[49m\u001b[38;5;28;43;01mfor\u001b[39;49;00m\u001b[43m \u001b[49m\u001b[43m_\u001b[49m\u001b[43m \u001b[49m\u001b[38;5;129;43;01min\u001b[39;49;00m\u001b[43m \u001b[49m\u001b[43mlays\u001b[49m\u001b[38;5;241;43m.\u001b[39;49m\u001b[43mshape\u001b[49m\u001b[43m[\u001b[49m\u001b[38;5;241;43m0\u001b[39;49m\u001b[43m]\u001b[49m\u001b[43m]\u001b[49m\n\u001b[1;32m     21\u001b[0m \u001b[38;5;28;01mfor\u001b[39;00m steps \u001b[38;5;129;01min\u001b[39;00m \u001b[38;5;28mrange\u001b[39m(max_steps):\n\u001b[1;32m     22\u001b[0m     x \u001b[38;5;241m=\u001b[39m \u001b[38;5;28mself\u001b[39m\u001b[38;5;241m.\u001b[39m__get_valid_data(steps, costs, lays)\n",
      "\u001b[0;31mTypeError\u001b[0m: 'int' object is not iterable"
     ]
    }
   ],
   "source": [
    "validate_model(model_Sx7, GreedyV2(), AttentionModel(), 10, 7, 50, 1000, max_steps= 100)"
   ]
  },
  {
   "cell_type": "markdown",
   "metadata": {},
   "source": [
    "# Reinforcement Learning"
   ]
  },
  {
   "cell_type": "code",
   "execution_count": 8,
   "metadata": {},
   "outputs": [
    {
     "name": "stdout",
     "output_type": "stream",
     "text": [
      "Step 1\n"
     ]
    },
    {
     "ename": "KeyboardInterrupt",
     "evalue": "",
     "output_type": "error",
     "traceback": [
      "\u001b[0;31m---------------------------------------------------------------------------\u001b[0m",
      "\u001b[0;31mKeyboardInterrupt\u001b[0m                         Traceback (most recent call last)",
      "Cell \u001b[0;32mIn[8], line 1\u001b[0m\n\u001b[0;32m----> 1\u001b[0m \u001b[43mreinforcement_training\u001b[49m\u001b[43m(\u001b[49m\u001b[43mmodel_Sx5\u001b[49m\u001b[43m,\u001b[49m\u001b[43m \u001b[49m\u001b[38;5;241;43m5\u001b[39;49m\u001b[43m,\u001b[49m\u001b[43m \u001b[49m\u001b[38;5;241;43m5\u001b[39;49m\u001b[43m,\u001b[49m\u001b[43m \u001b[49m\u001b[38;5;241;43m15\u001b[39;49m\u001b[43m,\u001b[49m\u001b[43m \u001b[49m\u001b[43mGreedyV2\u001b[49m\u001b[43m(\u001b[49m\u001b[43m)\u001b[49m\u001b[43m,\u001b[49m\u001b[43m \u001b[49m\u001b[43mAttentionModel\u001b[49m\u001b[43m(\u001b[49m\u001b[43m)\u001b[49m\u001b[43m,\u001b[49m\u001b[43m \u001b[49m\u001b[38;5;28;43miter\u001b[39;49m\u001b[38;5;241;43m=\u001b[39;49m\u001b[43m \u001b[49m\u001b[38;5;241;43m2\u001b[39;49m\u001b[43m,\u001b[49m\u001b[43m \u001b[49m\u001b[43mmax_steps\u001b[49m\u001b[38;5;241;43m=\u001b[39;49m\u001b[43m \u001b[49m\u001b[38;5;241;43m30\u001b[39;49m\u001b[43m,\u001b[49m\u001b[43m \u001b[49m\u001b[43mepochs\u001b[49m\u001b[38;5;241;43m=\u001b[39;49m\u001b[43m \u001b[49m\u001b[38;5;241;43m10\u001b[39;49m\u001b[43m,\u001b[49m\u001b[43m \u001b[49m\u001b[43mbatch_size\u001b[49m\u001b[38;5;241;43m=\u001b[39;49m\u001b[43m \u001b[49m\u001b[38;5;241;43m50\u001b[39;49m\u001b[43m)\u001b[49m\n",
      "File \u001b[0;32m~/Desktop/Workspace/CPMP_With_attention/clever_cpmp/model/functions.py:88\u001b[0m, in \u001b[0;36mreinforcement_training\u001b[0;34m(model, S, H, N, validate_optimizer, adapter, sample_size, iter, max_steps, epochs, batch_size, verbose, perms_by_layout)\u001b[0m\n\u001b[1;32m     85\u001b[0m \u001b[38;5;28;01mfor\u001b[39;00m i \u001b[38;5;129;01min\u001b[39;00m \u001b[38;5;28mrange\u001b[39m(\u001b[38;5;28miter\u001b[39m):\n\u001b[1;32m     86\u001b[0m     \u001b[38;5;28;01mif\u001b[39;00m verbose: \u001b[38;5;28mprint\u001b[39m(\u001b[38;5;124mf\u001b[39m\u001b[38;5;124m\"\u001b[39m\u001b[38;5;124mStep \u001b[39m\u001b[38;5;132;01m{\u001b[39;00mi\u001b[38;5;250m \u001b[39m\u001b[38;5;241m+\u001b[39m\u001b[38;5;250m \u001b[39m\u001b[38;5;241m1\u001b[39m\u001b[38;5;132;01m}\u001b[39;00m\u001b[38;5;124m\"\u001b[39m)\n\u001b[0;32m---> 88\u001b[0m     data, labels \u001b[38;5;241m=\u001b[39m \u001b[43mgenerate_data_v3\u001b[49m\u001b[43m(\u001b[49m\u001b[43moptimizer\u001b[49m\u001b[43m,\u001b[49m\u001b[43m \u001b[49m\u001b[43madapter\u001b[49m\u001b[43m,\u001b[49m\u001b[43m \u001b[49m\u001b[43mS\u001b[49m\u001b[43m,\u001b[49m\u001b[43m \u001b[49m\u001b[43mH\u001b[49m\u001b[43m,\u001b[49m\u001b[43m \u001b[49m\u001b[43mN\u001b[49m\u001b[43m,\u001b[49m\u001b[43m \u001b[49m\u001b[43msample_size\u001b[49m\u001b[43m,\u001b[49m\u001b[43m \u001b[49m\u001b[43mbatch_size\u001b[49m\u001b[43m,\u001b[49m\u001b[43m \u001b[49m\n\u001b[1;32m     89\u001b[0m \u001b[43m                                    \u001b[49m\u001b[43mperms_by_layout\u001b[49m\u001b[38;5;241;43m=\u001b[39;49m\u001b[43m \u001b[49m\u001b[43mperms_by_layout\u001b[49m\u001b[43m,\u001b[49m\u001b[43m \u001b[49m\u001b[43mmax_steps\u001b[49m\u001b[38;5;241;43m=\u001b[39;49m\u001b[43m \u001b[49m\u001b[43mmax_steps\u001b[49m\u001b[43m)\u001b[49m\n\u001b[1;32m     91\u001b[0m     data \u001b[38;5;241m=\u001b[39m np\u001b[38;5;241m.\u001b[39mstack(data)\n\u001b[1;32m     92\u001b[0m     labels \u001b[38;5;241m=\u001b[39m np\u001b[38;5;241m.\u001b[39mstack(labels)\n",
      "File \u001b[0;32m~/Desktop/Workspace/CPMP_With_attention/.venv/lib/python3.11/site-packages/cpmp_ml/generators/generate_data_v3.py:52\u001b[0m, in \u001b[0;36mgenerate_data_v3\u001b[0;34m(solver, adapter, S, H, N, sample_size, batch_size, perms_by_layout, **kwargs)\u001b[0m\n\u001b[1;32m     49\u001b[0m             child_lay\u001b[38;5;241m.\u001b[39mmove((i, j))\n\u001b[1;32m     50\u001b[0m             child_lays\u001b[38;5;241m.\u001b[39mappend(child_lay)\n\u001b[0;32m---> 52\u001b[0m child_costs \u001b[38;5;241m=\u001b[39m \u001b[43msolver\u001b[49m\u001b[38;5;241;43m.\u001b[39;49m\u001b[43msolve\u001b[49m\u001b[43m(\u001b[49m\u001b[43mnp\u001b[49m\u001b[38;5;241;43m.\u001b[39;49m\u001b[43marray\u001b[49m\u001b[43m(\u001b[49m\u001b[43mchild_lays\u001b[49m\u001b[43m)\u001b[49m\u001b[43m,\u001b[49m\u001b[43m \u001b[49m\u001b[38;5;241;43m*\u001b[39;49m\u001b[38;5;241;43m*\u001b[39;49m\u001b[43mkwargs\u001b[49m\u001b[43m)\u001b[49m\n\u001b[1;32m     54\u001b[0m \u001b[38;5;66;03m# for each parent to verify the existence of solutions\u001b[39;00m\n\u001b[1;32m     55\u001b[0m \u001b[38;5;28;01mfor\u001b[39;00m p \u001b[38;5;129;01min\u001b[39;00m \u001b[38;5;28mrange\u001b[39m(batch_size):\n",
      "File \u001b[0;32m~/Desktop/Workspace/CPMP_With_attention/.venv/lib/python3.11/site-packages/cpmp_ml/optimizer/GreedyModel.py:22\u001b[0m, in \u001b[0;36mGreedyModel.solve\u001b[0;34m(self, lays, **kwargs)\u001b[0m\n\u001b[1;32m     20\u001b[0m     x \u001b[38;5;241m=\u001b[39m \u001b[38;5;28mself\u001b[39m\u001b[38;5;241m.\u001b[39m__get_valid_data(steps, costs, lays)\n\u001b[1;32m     21\u001b[0m     \u001b[38;5;28;01mif\u001b[39;00m x\u001b[38;5;241m.\u001b[39mshape[\u001b[38;5;241m0\u001b[39m] \u001b[38;5;241m==\u001b[39m \u001b[38;5;241m0\u001b[39m: \u001b[38;5;28;01mbreak\u001b[39;00m\n\u001b[0;32m---> 22\u001b[0m     actions \u001b[38;5;241m=\u001b[39m \u001b[38;5;28;43mself\u001b[39;49m\u001b[38;5;241;43m.\u001b[39;49m\u001b[43m__model\u001b[49m\u001b[38;5;241;43m.\u001b[39;49m\u001b[43mpredict\u001b[49m\u001b[43m(\u001b[49m\u001b[43mx\u001b[49m\u001b[43m,\u001b[49m\u001b[43m \u001b[49m\u001b[43mverbose\u001b[49m\u001b[38;5;241;43m=\u001b[39;49m\u001b[38;5;28;43;01mFalse\u001b[39;49;00m\u001b[43m)\u001b[49m\n\u001b[1;32m     23\u001b[0m     \u001b[38;5;28mself\u001b[39m\u001b[38;5;241m.\u001b[39m__update_cost(actions, costs, lays)\n\u001b[1;32m     25\u001b[0m \u001b[38;5;28;01mreturn\u001b[39;00m costs\n",
      "File \u001b[0;32m~/Desktop/Workspace/CPMP_With_attention/.venv/lib/python3.11/site-packages/keras/src/utils/traceback_utils.py:65\u001b[0m, in \u001b[0;36mfilter_traceback.<locals>.error_handler\u001b[0;34m(*args, **kwargs)\u001b[0m\n\u001b[1;32m     63\u001b[0m filtered_tb \u001b[38;5;241m=\u001b[39m \u001b[38;5;28;01mNone\u001b[39;00m\n\u001b[1;32m     64\u001b[0m \u001b[38;5;28;01mtry\u001b[39;00m:\n\u001b[0;32m---> 65\u001b[0m     \u001b[38;5;28;01mreturn\u001b[39;00m \u001b[43mfn\u001b[49m\u001b[43m(\u001b[49m\u001b[38;5;241;43m*\u001b[39;49m\u001b[43margs\u001b[49m\u001b[43m,\u001b[49m\u001b[43m \u001b[49m\u001b[38;5;241;43m*\u001b[39;49m\u001b[38;5;241;43m*\u001b[39;49m\u001b[43mkwargs\u001b[49m\u001b[43m)\u001b[49m\n\u001b[1;32m     66\u001b[0m \u001b[38;5;28;01mexcept\u001b[39;00m \u001b[38;5;167;01mException\u001b[39;00m \u001b[38;5;28;01mas\u001b[39;00m e:\n\u001b[1;32m     67\u001b[0m     filtered_tb \u001b[38;5;241m=\u001b[39m _process_traceback_frames(e\u001b[38;5;241m.\u001b[39m__traceback__)\n",
      "File \u001b[0;32m~/Desktop/Workspace/CPMP_With_attention/.venv/lib/python3.11/site-packages/keras/src/engine/training.py:2655\u001b[0m, in \u001b[0;36mModel.predict\u001b[0;34m(self, x, batch_size, verbose, steps, callbacks, max_queue_size, workers, use_multiprocessing)\u001b[0m\n\u001b[1;32m   2653\u001b[0m \u001b[38;5;28;01mfor\u001b[39;00m step \u001b[38;5;129;01min\u001b[39;00m data_handler\u001b[38;5;241m.\u001b[39msteps():\n\u001b[1;32m   2654\u001b[0m     callbacks\u001b[38;5;241m.\u001b[39mon_predict_batch_begin(step)\n\u001b[0;32m-> 2655\u001b[0m     tmp_batch_outputs \u001b[38;5;241m=\u001b[39m \u001b[38;5;28;43mself\u001b[39;49m\u001b[38;5;241;43m.\u001b[39;49m\u001b[43mpredict_function\u001b[49m\u001b[43m(\u001b[49m\u001b[43miterator\u001b[49m\u001b[43m)\u001b[49m\n\u001b[1;32m   2656\u001b[0m     \u001b[38;5;28;01mif\u001b[39;00m data_handler\u001b[38;5;241m.\u001b[39mshould_sync:\n\u001b[1;32m   2657\u001b[0m         context\u001b[38;5;241m.\u001b[39masync_wait()\n",
      "File \u001b[0;32m~/Desktop/Workspace/CPMP_With_attention/.venv/lib/python3.11/site-packages/tensorflow/python/util/traceback_utils.py:150\u001b[0m, in \u001b[0;36mfilter_traceback.<locals>.error_handler\u001b[0;34m(*args, **kwargs)\u001b[0m\n\u001b[1;32m    148\u001b[0m filtered_tb \u001b[38;5;241m=\u001b[39m \u001b[38;5;28;01mNone\u001b[39;00m\n\u001b[1;32m    149\u001b[0m \u001b[38;5;28;01mtry\u001b[39;00m:\n\u001b[0;32m--> 150\u001b[0m   \u001b[38;5;28;01mreturn\u001b[39;00m \u001b[43mfn\u001b[49m\u001b[43m(\u001b[49m\u001b[38;5;241;43m*\u001b[39;49m\u001b[43margs\u001b[49m\u001b[43m,\u001b[49m\u001b[43m \u001b[49m\u001b[38;5;241;43m*\u001b[39;49m\u001b[38;5;241;43m*\u001b[39;49m\u001b[43mkwargs\u001b[49m\u001b[43m)\u001b[49m\n\u001b[1;32m    151\u001b[0m \u001b[38;5;28;01mexcept\u001b[39;00m \u001b[38;5;167;01mException\u001b[39;00m \u001b[38;5;28;01mas\u001b[39;00m e:\n\u001b[1;32m    152\u001b[0m   filtered_tb \u001b[38;5;241m=\u001b[39m _process_traceback_frames(e\u001b[38;5;241m.\u001b[39m__traceback__)\n",
      "File \u001b[0;32m~/Desktop/Workspace/CPMP_With_attention/.venv/lib/python3.11/site-packages/tensorflow/python/eager/polymorphic_function/polymorphic_function.py:832\u001b[0m, in \u001b[0;36mFunction.__call__\u001b[0;34m(self, *args, **kwds)\u001b[0m\n\u001b[1;32m    829\u001b[0m compiler \u001b[38;5;241m=\u001b[39m \u001b[38;5;124m\"\u001b[39m\u001b[38;5;124mxla\u001b[39m\u001b[38;5;124m\"\u001b[39m \u001b[38;5;28;01mif\u001b[39;00m \u001b[38;5;28mself\u001b[39m\u001b[38;5;241m.\u001b[39m_jit_compile \u001b[38;5;28;01melse\u001b[39;00m \u001b[38;5;124m\"\u001b[39m\u001b[38;5;124mnonXla\u001b[39m\u001b[38;5;124m\"\u001b[39m\n\u001b[1;32m    831\u001b[0m \u001b[38;5;28;01mwith\u001b[39;00m OptionalXlaContext(\u001b[38;5;28mself\u001b[39m\u001b[38;5;241m.\u001b[39m_jit_compile):\n\u001b[0;32m--> 832\u001b[0m   result \u001b[38;5;241m=\u001b[39m \u001b[38;5;28;43mself\u001b[39;49m\u001b[38;5;241;43m.\u001b[39;49m\u001b[43m_call\u001b[49m\u001b[43m(\u001b[49m\u001b[38;5;241;43m*\u001b[39;49m\u001b[43margs\u001b[49m\u001b[43m,\u001b[49m\u001b[43m \u001b[49m\u001b[38;5;241;43m*\u001b[39;49m\u001b[38;5;241;43m*\u001b[39;49m\u001b[43mkwds\u001b[49m\u001b[43m)\u001b[49m\n\u001b[1;32m    834\u001b[0m new_tracing_count \u001b[38;5;241m=\u001b[39m \u001b[38;5;28mself\u001b[39m\u001b[38;5;241m.\u001b[39mexperimental_get_tracing_count()\n\u001b[1;32m    835\u001b[0m without_tracing \u001b[38;5;241m=\u001b[39m (tracing_count \u001b[38;5;241m==\u001b[39m new_tracing_count)\n",
      "File \u001b[0;32m~/Desktop/Workspace/CPMP_With_attention/.venv/lib/python3.11/site-packages/tensorflow/python/eager/polymorphic_function/polymorphic_function.py:877\u001b[0m, in \u001b[0;36mFunction._call\u001b[0;34m(self, *args, **kwds)\u001b[0m\n\u001b[1;32m    874\u001b[0m \u001b[38;5;28mself\u001b[39m\u001b[38;5;241m.\u001b[39m_lock\u001b[38;5;241m.\u001b[39mrelease()\n\u001b[1;32m    875\u001b[0m \u001b[38;5;66;03m# In this case we have not created variables on the first call. So we can\u001b[39;00m\n\u001b[1;32m    876\u001b[0m \u001b[38;5;66;03m# run the first trace but we should fail if variables are created.\u001b[39;00m\n\u001b[0;32m--> 877\u001b[0m results \u001b[38;5;241m=\u001b[39m \u001b[43mtracing_compilation\u001b[49m\u001b[38;5;241;43m.\u001b[39;49m\u001b[43mcall_function\u001b[49m\u001b[43m(\u001b[49m\n\u001b[1;32m    878\u001b[0m \u001b[43m    \u001b[49m\u001b[43margs\u001b[49m\u001b[43m,\u001b[49m\u001b[43m \u001b[49m\u001b[43mkwds\u001b[49m\u001b[43m,\u001b[49m\u001b[43m \u001b[49m\u001b[38;5;28;43mself\u001b[39;49m\u001b[38;5;241;43m.\u001b[39;49m\u001b[43m_variable_creation_config\u001b[49m\n\u001b[1;32m    879\u001b[0m \u001b[43m\u001b[49m\u001b[43m)\u001b[49m\n\u001b[1;32m    880\u001b[0m \u001b[38;5;28;01mif\u001b[39;00m \u001b[38;5;28mself\u001b[39m\u001b[38;5;241m.\u001b[39m_created_variables:\n\u001b[1;32m    881\u001b[0m   \u001b[38;5;28;01mraise\u001b[39;00m \u001b[38;5;167;01mValueError\u001b[39;00m(\u001b[38;5;124m\"\u001b[39m\u001b[38;5;124mCreating variables on a non-first call to a function\u001b[39m\u001b[38;5;124m\"\u001b[39m\n\u001b[1;32m    882\u001b[0m                    \u001b[38;5;124m\"\u001b[39m\u001b[38;5;124m decorated with tf.function.\u001b[39m\u001b[38;5;124m\"\u001b[39m)\n",
      "File \u001b[0;32m~/Desktop/Workspace/CPMP_With_attention/.venv/lib/python3.11/site-packages/tensorflow/python/eager/polymorphic_function/tracing_compilation.py:139\u001b[0m, in \u001b[0;36mcall_function\u001b[0;34m(args, kwargs, tracing_options)\u001b[0m\n\u001b[1;32m    137\u001b[0m bound_args \u001b[38;5;241m=\u001b[39m function\u001b[38;5;241m.\u001b[39mfunction_type\u001b[38;5;241m.\u001b[39mbind(\u001b[38;5;241m*\u001b[39margs, \u001b[38;5;241m*\u001b[39m\u001b[38;5;241m*\u001b[39mkwargs)\n\u001b[1;32m    138\u001b[0m flat_inputs \u001b[38;5;241m=\u001b[39m function\u001b[38;5;241m.\u001b[39mfunction_type\u001b[38;5;241m.\u001b[39munpack_inputs(bound_args)\n\u001b[0;32m--> 139\u001b[0m \u001b[38;5;28;01mreturn\u001b[39;00m \u001b[43mfunction\u001b[49m\u001b[38;5;241;43m.\u001b[39;49m\u001b[43m_call_flat\u001b[49m\u001b[43m(\u001b[49m\u001b[43m  \u001b[49m\u001b[38;5;66;43;03m# pylint: disable=protected-access\u001b[39;49;00m\n\u001b[1;32m    140\u001b[0m \u001b[43m    \u001b[49m\u001b[43mflat_inputs\u001b[49m\u001b[43m,\u001b[49m\u001b[43m \u001b[49m\u001b[43mcaptured_inputs\u001b[49m\u001b[38;5;241;43m=\u001b[39;49m\u001b[43mfunction\u001b[49m\u001b[38;5;241;43m.\u001b[39;49m\u001b[43mcaptured_inputs\u001b[49m\n\u001b[1;32m    141\u001b[0m \u001b[43m\u001b[49m\u001b[43m)\u001b[49m\n",
      "File \u001b[0;32m~/Desktop/Workspace/CPMP_With_attention/.venv/lib/python3.11/site-packages/tensorflow/python/eager/polymorphic_function/concrete_function.py:1323\u001b[0m, in \u001b[0;36mConcreteFunction._call_flat\u001b[0;34m(self, tensor_inputs, captured_inputs)\u001b[0m\n\u001b[1;32m   1319\u001b[0m possible_gradient_type \u001b[38;5;241m=\u001b[39m gradients_util\u001b[38;5;241m.\u001b[39mPossibleTapeGradientTypes(args)\n\u001b[1;32m   1320\u001b[0m \u001b[38;5;28;01mif\u001b[39;00m (possible_gradient_type \u001b[38;5;241m==\u001b[39m gradients_util\u001b[38;5;241m.\u001b[39mPOSSIBLE_GRADIENT_TYPES_NONE\n\u001b[1;32m   1321\u001b[0m     \u001b[38;5;129;01mand\u001b[39;00m executing_eagerly):\n\u001b[1;32m   1322\u001b[0m   \u001b[38;5;66;03m# No tape is watching; skip to running the function.\u001b[39;00m\n\u001b[0;32m-> 1323\u001b[0m   \u001b[38;5;28;01mreturn\u001b[39;00m \u001b[38;5;28;43mself\u001b[39;49m\u001b[38;5;241;43m.\u001b[39;49m\u001b[43m_inference_function\u001b[49m\u001b[38;5;241;43m.\u001b[39;49m\u001b[43mcall_preflattened\u001b[49m\u001b[43m(\u001b[49m\u001b[43margs\u001b[49m\u001b[43m)\u001b[49m\n\u001b[1;32m   1324\u001b[0m forward_backward \u001b[38;5;241m=\u001b[39m \u001b[38;5;28mself\u001b[39m\u001b[38;5;241m.\u001b[39m_select_forward_and_backward_functions(\n\u001b[1;32m   1325\u001b[0m     args,\n\u001b[1;32m   1326\u001b[0m     possible_gradient_type,\n\u001b[1;32m   1327\u001b[0m     executing_eagerly)\n\u001b[1;32m   1328\u001b[0m forward_function, args_with_tangents \u001b[38;5;241m=\u001b[39m forward_backward\u001b[38;5;241m.\u001b[39mforward()\n",
      "File \u001b[0;32m~/Desktop/Workspace/CPMP_With_attention/.venv/lib/python3.11/site-packages/tensorflow/python/eager/polymorphic_function/atomic_function.py:216\u001b[0m, in \u001b[0;36mAtomicFunction.call_preflattened\u001b[0;34m(self, args)\u001b[0m\n\u001b[1;32m    214\u001b[0m \u001b[38;5;28;01mdef\u001b[39;00m \u001b[38;5;21mcall_preflattened\u001b[39m(\u001b[38;5;28mself\u001b[39m, args: Sequence[core\u001b[38;5;241m.\u001b[39mTensor]) \u001b[38;5;241m-\u001b[39m\u001b[38;5;241m>\u001b[39m Any:\n\u001b[1;32m    215\u001b[0m \u001b[38;5;250m  \u001b[39m\u001b[38;5;124;03m\"\"\"Calls with flattened tensor inputs and returns the structured output.\"\"\"\u001b[39;00m\n\u001b[0;32m--> 216\u001b[0m   flat_outputs \u001b[38;5;241m=\u001b[39m \u001b[38;5;28;43mself\u001b[39;49m\u001b[38;5;241;43m.\u001b[39;49m\u001b[43mcall_flat\u001b[49m\u001b[43m(\u001b[49m\u001b[38;5;241;43m*\u001b[39;49m\u001b[43margs\u001b[49m\u001b[43m)\u001b[49m\n\u001b[1;32m    217\u001b[0m   \u001b[38;5;28;01mreturn\u001b[39;00m \u001b[38;5;28mself\u001b[39m\u001b[38;5;241m.\u001b[39mfunction_type\u001b[38;5;241m.\u001b[39mpack_output(flat_outputs)\n",
      "File \u001b[0;32m~/Desktop/Workspace/CPMP_With_attention/.venv/lib/python3.11/site-packages/tensorflow/python/eager/polymorphic_function/atomic_function.py:251\u001b[0m, in \u001b[0;36mAtomicFunction.call_flat\u001b[0;34m(self, *args)\u001b[0m\n\u001b[1;32m    249\u001b[0m \u001b[38;5;28;01mwith\u001b[39;00m record\u001b[38;5;241m.\u001b[39mstop_recording():\n\u001b[1;32m    250\u001b[0m   \u001b[38;5;28;01mif\u001b[39;00m \u001b[38;5;28mself\u001b[39m\u001b[38;5;241m.\u001b[39m_bound_context\u001b[38;5;241m.\u001b[39mexecuting_eagerly():\n\u001b[0;32m--> 251\u001b[0m     outputs \u001b[38;5;241m=\u001b[39m \u001b[38;5;28;43mself\u001b[39;49m\u001b[38;5;241;43m.\u001b[39;49m\u001b[43m_bound_context\u001b[49m\u001b[38;5;241;43m.\u001b[39;49m\u001b[43mcall_function\u001b[49m\u001b[43m(\u001b[49m\n\u001b[1;32m    252\u001b[0m \u001b[43m        \u001b[49m\u001b[38;5;28;43mself\u001b[39;49m\u001b[38;5;241;43m.\u001b[39;49m\u001b[43mname\u001b[49m\u001b[43m,\u001b[49m\n\u001b[1;32m    253\u001b[0m \u001b[43m        \u001b[49m\u001b[38;5;28;43mlist\u001b[39;49m\u001b[43m(\u001b[49m\u001b[43margs\u001b[49m\u001b[43m)\u001b[49m\u001b[43m,\u001b[49m\n\u001b[1;32m    254\u001b[0m \u001b[43m        \u001b[49m\u001b[38;5;28;43mlen\u001b[39;49m\u001b[43m(\u001b[49m\u001b[38;5;28;43mself\u001b[39;49m\u001b[38;5;241;43m.\u001b[39;49m\u001b[43mfunction_type\u001b[49m\u001b[38;5;241;43m.\u001b[39;49m\u001b[43mflat_outputs\u001b[49m\u001b[43m)\u001b[49m\u001b[43m,\u001b[49m\n\u001b[1;32m    255\u001b[0m \u001b[43m    \u001b[49m\u001b[43m)\u001b[49m\n\u001b[1;32m    256\u001b[0m   \u001b[38;5;28;01melse\u001b[39;00m:\n\u001b[1;32m    257\u001b[0m     outputs \u001b[38;5;241m=\u001b[39m make_call_op_in_graph(\n\u001b[1;32m    258\u001b[0m         \u001b[38;5;28mself\u001b[39m,\n\u001b[1;32m    259\u001b[0m         \u001b[38;5;28mlist\u001b[39m(args),\n\u001b[1;32m    260\u001b[0m         \u001b[38;5;28mself\u001b[39m\u001b[38;5;241m.\u001b[39m_bound_context\u001b[38;5;241m.\u001b[39mfunction_call_options\u001b[38;5;241m.\u001b[39mas_attrs(),\n\u001b[1;32m    261\u001b[0m     )\n",
      "File \u001b[0;32m~/Desktop/Workspace/CPMP_With_attention/.venv/lib/python3.11/site-packages/tensorflow/python/eager/context.py:1486\u001b[0m, in \u001b[0;36mContext.call_function\u001b[0;34m(self, name, tensor_inputs, num_outputs)\u001b[0m\n\u001b[1;32m   1484\u001b[0m cancellation_context \u001b[38;5;241m=\u001b[39m cancellation\u001b[38;5;241m.\u001b[39mcontext()\n\u001b[1;32m   1485\u001b[0m \u001b[38;5;28;01mif\u001b[39;00m cancellation_context \u001b[38;5;129;01mis\u001b[39;00m \u001b[38;5;28;01mNone\u001b[39;00m:\n\u001b[0;32m-> 1486\u001b[0m   outputs \u001b[38;5;241m=\u001b[39m \u001b[43mexecute\u001b[49m\u001b[38;5;241;43m.\u001b[39;49m\u001b[43mexecute\u001b[49m\u001b[43m(\u001b[49m\n\u001b[1;32m   1487\u001b[0m \u001b[43m      \u001b[49m\u001b[43mname\u001b[49m\u001b[38;5;241;43m.\u001b[39;49m\u001b[43mdecode\u001b[49m\u001b[43m(\u001b[49m\u001b[38;5;124;43m\"\u001b[39;49m\u001b[38;5;124;43mutf-8\u001b[39;49m\u001b[38;5;124;43m\"\u001b[39;49m\u001b[43m)\u001b[49m\u001b[43m,\u001b[49m\n\u001b[1;32m   1488\u001b[0m \u001b[43m      \u001b[49m\u001b[43mnum_outputs\u001b[49m\u001b[38;5;241;43m=\u001b[39;49m\u001b[43mnum_outputs\u001b[49m\u001b[43m,\u001b[49m\n\u001b[1;32m   1489\u001b[0m \u001b[43m      \u001b[49m\u001b[43minputs\u001b[49m\u001b[38;5;241;43m=\u001b[39;49m\u001b[43mtensor_inputs\u001b[49m\u001b[43m,\u001b[49m\n\u001b[1;32m   1490\u001b[0m \u001b[43m      \u001b[49m\u001b[43mattrs\u001b[49m\u001b[38;5;241;43m=\u001b[39;49m\u001b[43mattrs\u001b[49m\u001b[43m,\u001b[49m\n\u001b[1;32m   1491\u001b[0m \u001b[43m      \u001b[49m\u001b[43mctx\u001b[49m\u001b[38;5;241;43m=\u001b[39;49m\u001b[38;5;28;43mself\u001b[39;49m\u001b[43m,\u001b[49m\n\u001b[1;32m   1492\u001b[0m \u001b[43m  \u001b[49m\u001b[43m)\u001b[49m\n\u001b[1;32m   1493\u001b[0m \u001b[38;5;28;01melse\u001b[39;00m:\n\u001b[1;32m   1494\u001b[0m   outputs \u001b[38;5;241m=\u001b[39m execute\u001b[38;5;241m.\u001b[39mexecute_with_cancellation(\n\u001b[1;32m   1495\u001b[0m       name\u001b[38;5;241m.\u001b[39mdecode(\u001b[38;5;124m\"\u001b[39m\u001b[38;5;124mutf-8\u001b[39m\u001b[38;5;124m\"\u001b[39m),\n\u001b[1;32m   1496\u001b[0m       num_outputs\u001b[38;5;241m=\u001b[39mnum_outputs,\n\u001b[0;32m   (...)\u001b[0m\n\u001b[1;32m   1500\u001b[0m       cancellation_manager\u001b[38;5;241m=\u001b[39mcancellation_context,\n\u001b[1;32m   1501\u001b[0m   )\n",
      "File \u001b[0;32m~/Desktop/Workspace/CPMP_With_attention/.venv/lib/python3.11/site-packages/tensorflow/python/eager/execute.py:53\u001b[0m, in \u001b[0;36mquick_execute\u001b[0;34m(op_name, num_outputs, inputs, attrs, ctx, name)\u001b[0m\n\u001b[1;32m     51\u001b[0m \u001b[38;5;28;01mtry\u001b[39;00m:\n\u001b[1;32m     52\u001b[0m   ctx\u001b[38;5;241m.\u001b[39mensure_initialized()\n\u001b[0;32m---> 53\u001b[0m   tensors \u001b[38;5;241m=\u001b[39m \u001b[43mpywrap_tfe\u001b[49m\u001b[38;5;241;43m.\u001b[39;49m\u001b[43mTFE_Py_Execute\u001b[49m\u001b[43m(\u001b[49m\u001b[43mctx\u001b[49m\u001b[38;5;241;43m.\u001b[39;49m\u001b[43m_handle\u001b[49m\u001b[43m,\u001b[49m\u001b[43m \u001b[49m\u001b[43mdevice_name\u001b[49m\u001b[43m,\u001b[49m\u001b[43m \u001b[49m\u001b[43mop_name\u001b[49m\u001b[43m,\u001b[49m\n\u001b[1;32m     54\u001b[0m \u001b[43m                                      \u001b[49m\u001b[43minputs\u001b[49m\u001b[43m,\u001b[49m\u001b[43m \u001b[49m\u001b[43mattrs\u001b[49m\u001b[43m,\u001b[49m\u001b[43m \u001b[49m\u001b[43mnum_outputs\u001b[49m\u001b[43m)\u001b[49m\n\u001b[1;32m     55\u001b[0m \u001b[38;5;28;01mexcept\u001b[39;00m core\u001b[38;5;241m.\u001b[39m_NotOkStatusException \u001b[38;5;28;01mas\u001b[39;00m e:\n\u001b[1;32m     56\u001b[0m   \u001b[38;5;28;01mif\u001b[39;00m name \u001b[38;5;129;01mis\u001b[39;00m \u001b[38;5;129;01mnot\u001b[39;00m \u001b[38;5;28;01mNone\u001b[39;00m:\n",
      "\u001b[0;31mKeyboardInterrupt\u001b[0m: "
     ]
    }
   ],
   "source": [
    "reinforcement_training(model_Sx5, 5, 5, 15, GreedyV2(), AttentionModel(), iter= 2, max_steps= 30, epochs= 10, batch_size= 50)"
   ]
  }
 ],
 "metadata": {
  "kernelspec": {
   "display_name": ".venv",
   "language": "python",
   "name": "python3"
  },
  "language_info": {
   "codemirror_mode": {
    "name": "ipython",
    "version": 3
   },
   "file_extension": ".py",
   "mimetype": "text/x-python",
   "name": "python",
   "nbconvert_exporter": "python",
   "pygments_lexer": "ipython3",
   "version": "3.11.9"
  }
 },
 "nbformat": 4,
 "nbformat_minor": 2
}
