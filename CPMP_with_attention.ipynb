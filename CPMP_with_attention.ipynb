{
 "cells": [
  {
   "cell_type": "markdown",
   "metadata": {},
   "source": [
    "# Librerías"
   ]
  },
  {
   "cell_type": "code",
   "execution_count": 1,
   "metadata": {},
   "outputs": [],
   "source": [
    "from attentional_cpmp.utils import load_data\n",
    "from attentional_cpmp.utils import load_data_mongo\n",
    "from attentional_cpmp.utils import connect_to_server\n",
    "from attentional_cpmp.model import load_cpmp_model\n",
    "from attentional_cpmp.model import create_model\n",
    "from attentional_cpmp.model import reinforcement_training\n",
    "from cpmp_ml.optimizer import GreedyV1\n",
    "from cpmp_ml.optimizer import GreedyV2\n",
    "from cpmp_ml.utils.adapters import AttentionModel\n",
    "from cpmp_ml.validations import validate_model"
   ]
  },
  {
   "cell_type": "markdown",
   "metadata": {},
   "source": [
    "# Cargar Data"
   ]
  },
  {
   "cell_type": "code",
   "execution_count": 2,
   "metadata": {},
   "outputs": [],
   "source": [
    "MONGO_URI_MODEL_V2 = 'mongodb+srv://<Username>:<Password>@cluster0.p9y0etq.mongodb.net/'\n",
    "MONGO_URI_LOCAL = \"mongodb://localhost:27017/\""
   ]
  },
  {
   "cell_type": "markdown",
   "metadata": {},
   "source": [
    "## Local"
   ]
  },
  {
   "cell_type": "code",
   "execution_count": null,
   "metadata": {},
   "outputs": [],
   "source": [
    "data_5x5, labels_5x5 = load_data('Data_CPMP/Data_Model_v2/data_5x5_Multiple.csv')"
   ]
  },
  {
   "cell_type": "code",
   "execution_count": null,
   "metadata": {},
   "outputs": [],
   "source": [
    "data_7x7, labels_7x7 = load_data('data/data_7x7_Multiple.csv')"
   ]
  },
  {
   "cell_type": "markdown",
   "metadata": {},
   "source": [
    "## MongoDB"
   ]
  },
  {
   "cell_type": "markdown",
   "metadata": {},
   "source": [
    "### Modelo v2"
   ]
  },
  {
   "cell_type": "code",
   "execution_count": null,
   "metadata": {},
   "outputs": [],
   "source": [
    "client_v2 = connect_to_server(MONGO_URI_MODEL_V2)\n",
    "\n",
    "base_de_datos = client_v2.data_Model_v2\n",
    "data_5x5, labels_5x5 = load_data_mongo(base_de_datos.data_5x5)\n",
    "\n",
    "client_v2.close()"
   ]
  },
  {
   "cell_type": "code",
   "execution_count": null,
   "metadata": {},
   "outputs": [],
   "source": [
    "client_v2 = connect_to_server(MONGO_URI_MODEL_V2)\n",
    "\n",
    "base_de_datos = client_v2.data_Model_v2\n",
    "data_7x7, labels_7x7 = load_data_mongo(base_de_datos.data_7x7)\n",
    "\n",
    "client_v2.close()"
   ]
  },
  {
   "cell_type": "markdown",
   "metadata": {},
   "source": [
    "### Local"
   ]
  },
  {
   "cell_type": "code",
   "execution_count": 3,
   "metadata": {},
   "outputs": [
    {
     "name": "stdout",
     "output_type": "stream",
     "text": [
      "Conection Success\n"
     ]
    }
   ],
   "source": [
    "client_local = connect_to_server(MONGO_URI_LOCAL)\n",
    "\n",
    "base_de_datos = client_local['CPMP_With_Attention']\n",
    "data_Sx7 = load_data_mongo(base_de_datos[\"Sx7_v3\"])\n",
    "\n",
    "client_local.close()"
   ]
  },
  {
   "cell_type": "markdown",
   "metadata": {},
   "source": [
    "# Cargar Modelos"
   ]
  },
  {
   "cell_type": "code",
   "execution_count": 4,
   "metadata": {},
   "outputs": [],
   "source": [
    "model_Sx7 = load_cpmp_model(\"./models/Sx7/model_Sx7.h5\")"
   ]
  },
  {
   "cell_type": "markdown",
   "metadata": {},
   "source": [
    "# Modelo Sx5"
   ]
  },
  {
   "cell_type": "code",
   "execution_count": 5,
   "metadata": {},
   "outputs": [],
   "source": [
    "model_Sx5 = create_model(5, 5, 'Adam', num_stacks= 3)"
   ]
  },
  {
   "cell_type": "markdown",
   "metadata": {},
   "source": [
    "## Entrenamiento"
   ]
  },
  {
   "cell_type": "code",
   "execution_count": 5,
   "metadata": {},
   "outputs": [
    {
     "name": "stdout",
     "output_type": "stream",
     "text": [
      "Epoch 1/50\n",
      "6222/6222 [==============================] - 80s 12ms/step - loss: 0.1439 - mae: 0.0866 - mse: 0.0429\n",
      "Epoch 2/50\n",
      "6222/6222 [==============================] - 75s 12ms/step - loss: 0.0968 - mae: 0.0573 - mse: 0.0287\n",
      "Epoch 3/50\n",
      "6222/6222 [==============================] - 75s 12ms/step - loss: 0.0877 - mae: 0.0516 - mse: 0.0258\n",
      "Epoch 4/50\n",
      "6222/6222 [==============================] - 74s 12ms/step - loss: 0.0822 - mae: 0.0483 - mse: 0.0241\n",
      "Epoch 5/50\n",
      "6222/6222 [==============================] - 75s 12ms/step - loss: 0.0778 - mae: 0.0457 - mse: 0.0228\n",
      "Epoch 6/50\n",
      "6222/6222 [==============================] - 74s 12ms/step - loss: 0.0744 - mae: 0.0438 - mse: 0.0218\n",
      "Epoch 7/50\n",
      "6222/6222 [==============================] - 75s 12ms/step - loss: 0.0720 - mae: 0.0425 - mse: 0.0212\n",
      "Epoch 8/50\n",
      "6222/6222 [==============================] - 81s 13ms/step - loss: 0.0703 - mae: 0.0416 - mse: 0.0207\n",
      "Epoch 9/50\n",
      "6222/6222 [==============================] - 76s 12ms/step - loss: 0.0690 - mae: 0.0409 - mse: 0.0204\n",
      "Epoch 10/50\n",
      "6222/6222 [==============================] - 76s 12ms/step - loss: 0.0679 - mae: 0.0403 - mse: 0.0201\n",
      "Epoch 11/50\n",
      "6222/6222 [==============================] - 74s 12ms/step - loss: 0.0669 - mae: 0.0398 - mse: 0.0198\n",
      "Epoch 12/50\n",
      "6222/6222 [==============================] - 76s 12ms/step - loss: 0.0661 - mae: 0.0393 - mse: 0.0195\n",
      "Epoch 13/50\n",
      "6222/6222 [==============================] - 75s 12ms/step - loss: 0.0652 - mae: 0.0388 - mse: 0.0193\n",
      "Epoch 14/50\n",
      "6222/6222 [==============================] - 77s 12ms/step - loss: 0.0645 - mae: 0.0383 - mse: 0.0191\n",
      "Epoch 15/50\n",
      "6222/6222 [==============================] - 76s 12ms/step - loss: 0.0638 - mae: 0.0379 - mse: 0.0189\n",
      "Epoch 16/50\n",
      "6222/6222 [==============================] - 76s 12ms/step - loss: 0.0630 - mae: 0.0374 - mse: 0.0186\n",
      "Epoch 17/50\n",
      "6222/6222 [==============================] - 75s 12ms/step - loss: 0.0624 - mae: 0.0370 - mse: 0.0184\n",
      "Epoch 18/50\n",
      "6222/6222 [==============================] - 81s 13ms/step - loss: 0.0618 - mae: 0.0366 - mse: 0.0182\n",
      "Epoch 19/50\n",
      "6222/6222 [==============================] - 80s 13ms/step - loss: 0.0609 - mae: 0.0361 - mse: 0.0180\n",
      "Epoch 20/50\n",
      "6222/6222 [==============================] - 82s 13ms/step - loss: 0.0604 - mae: 0.0358 - mse: 0.0178\n",
      "Epoch 21/50\n",
      "6222/6222 [==============================] - 76s 12ms/step - loss: 0.0598 - mae: 0.0354 - mse: 0.0176\n",
      "Epoch 22/50\n",
      "6222/6222 [==============================] - 75s 12ms/step - loss: 0.0575 - mae: 0.0338 - mse: 0.0168\n",
      "Epoch 23/50\n",
      "6222/6222 [==============================] - 76s 12ms/step - loss: 0.0558 - mae: 0.0325 - mse: 0.0162\n",
      "Epoch 24/50\n",
      "6222/6222 [==============================] - 78s 13ms/step - loss: 0.0548 - mae: 0.0318 - mse: 0.0158\n",
      "Epoch 25/50\n",
      "6222/6222 [==============================] - 77s 12ms/step - loss: 0.0541 - mae: 0.0314 - mse: 0.0156\n",
      "Epoch 26/50\n",
      "6222/6222 [==============================] - 75s 12ms/step - loss: 0.0536 - mae: 0.0312 - mse: 0.0155\n",
      "Epoch 27/50\n",
      "6222/6222 [==============================] - 75s 12ms/step - loss: 0.0531 - mae: 0.0308 - mse: 0.0153\n",
      "Epoch 28/50\n",
      "6222/6222 [==============================] - 78s 13ms/step - loss: 0.0527 - mae: 0.0306 - mse: 0.0152\n",
      "Epoch 29/50\n",
      "6222/6222 [==============================] - 78s 13ms/step - loss: 0.0522 - mae: 0.0303 - mse: 0.0151\n",
      "Epoch 30/50\n",
      "6222/6222 [==============================] - 78s 13ms/step - loss: 0.0521 - mae: 0.0302 - mse: 0.0150\n",
      "Epoch 31/50\n",
      "6222/6222 [==============================] - 77s 12ms/step - loss: 0.0517 - mae: 0.0300 - mse: 0.0149\n",
      "Epoch 32/50\n",
      "6222/6222 [==============================] - 76s 12ms/step - loss: 0.0513 - mae: 0.0298 - mse: 0.0148\n",
      "Epoch 33/50\n",
      "6222/6222 [==============================] - 76s 12ms/step - loss: 0.0512 - mae: 0.0297 - mse: 0.0148\n",
      "Epoch 34/50\n",
      "6222/6222 [==============================] - 77s 12ms/step - loss: 0.0510 - mae: 0.0296 - mse: 0.0147\n",
      "Epoch 35/50\n",
      "6222/6222 [==============================] - 77s 12ms/step - loss: 0.0505 - mae: 0.0293 - mse: 0.0146\n",
      "Epoch 36/50\n",
      "6222/6222 [==============================] - 77s 12ms/step - loss: 0.0505 - mae: 0.0293 - mse: 0.0146\n",
      "Epoch 37/50\n",
      "6222/6222 [==============================] - 77s 12ms/step - loss: 0.0502 - mae: 0.0291 - mse: 0.0145\n",
      "Epoch 38/50\n",
      "6222/6222 [==============================] - 78s 13ms/step - loss: 0.0499 - mae: 0.0290 - mse: 0.0144\n",
      "Epoch 39/50\n",
      "6222/6222 [==============================] - 78s 12ms/step - loss: 0.0497 - mae: 0.0289 - mse: 0.0144\n",
      "Epoch 40/50\n",
      "6222/6222 [==============================] - 79s 13ms/step - loss: 0.0493 - mae: 0.0286 - mse: 0.0143\n",
      "Epoch 41/50\n",
      "6222/6222 [==============================] - 83s 13ms/step - loss: 0.0494 - mae: 0.0287 - mse: 0.0143\n",
      "Epoch 42/50\n",
      "6222/6222 [==============================] - 83s 13ms/step - loss: 0.0492 - mae: 0.0286 - mse: 0.0142\n",
      "Epoch 43/50\n",
      "6222/6222 [==============================] - 87s 14ms/step - loss: 0.0490 - mae: 0.0284 - mse: 0.0142\n",
      "Epoch 44/50\n",
      "6222/6222 [==============================] - 75s 12ms/step - loss: 0.0489 - mae: 0.0284 - mse: 0.0141\n",
      "Epoch 45/50\n",
      "6222/6222 [==============================] - 76s 12ms/step - loss: 0.0487 - mae: 0.0283 - mse: 0.0141\n",
      "Epoch 46/50\n",
      "6222/6222 [==============================] - 76s 12ms/step - loss: 0.0485 - mae: 0.0282 - mse: 0.0140\n",
      "Epoch 47/50\n",
      "6222/6222 [==============================] - 569s 91ms/step - loss: 0.0484 - mae: 0.0281 - mse: 0.0140\n",
      "Epoch 48/50\n",
      "6222/6222 [==============================] - 76s 12ms/step - loss: 0.0484 - mae: 0.0281 - mse: 0.0140\n",
      "Epoch 49/50\n",
      "6222/6222 [==============================] - 78s 13ms/step - loss: 0.0482 - mae: 0.0280 - mse: 0.0139\n",
      "Epoch 50/50\n",
      "6222/6222 [==============================] - 82s 13ms/step - loss: 0.0481 - mae: 0.0279 - mse: 0.0139\n"
     ]
    }
   ],
   "source": [
    "for stack in data_5x5:\n",
    "    model_Sx5.fit(data_5x5[stack][\"States\"], data_5x5[stack][\"Labels\"], batch_size= 32, epochs= 50)"
   ]
  },
  {
   "cell_type": "markdown",
   "metadata": {},
   "source": [
    "## Testing"
   ]
  },
  {
   "cell_type": "code",
   "execution_count": 6,
   "metadata": {},
   "outputs": [
    {
     "name": "stdout",
     "output_type": "stream",
     "text": [
      "success heuristic (%): 6.0 6.35\n",
      "mean steps: 6.35\n",
      "median steps: 6.0\n",
      "min steps: 1.0\n",
      "max steps: 10.0\n",
      "\n"
     ]
    },
    {
     "data": {
      "text/plain": [
       "(0.0, 6.0)"
      ]
     },
     "execution_count": 6,
     "metadata": {},
     "output_type": "execute_result"
    }
   ],
   "source": [
    "validate_model(model_Sx5, GreedyV1(), AttentionModel(), 5, 5, 15, size_states= 1000, max_steps= 30)"
   ]
  },
  {
   "cell_type": "code",
   "execution_count": 7,
   "metadata": {},
   "outputs": [
    {
     "name": "stdout",
     "output_type": "stream",
     "text": [
      "success ann model (%): 0.1\n",
      "mean steps: 0.0\n",
      "median steps: 0.0\n",
      "min steps: 0.0\n",
      "max steps: 0.0\n",
      "\n",
      "success heuristic (%): 100.0 12.286\n",
      "mean steps: 12.286\n",
      "median steps: 12.0\n",
      "min steps: 0.0\n",
      "max steps: 27.0\n",
      "\n"
     ]
    },
    {
     "data": {
      "text/plain": [
       "(0.1, 100.0)"
      ]
     },
     "execution_count": 7,
     "metadata": {},
     "output_type": "execute_result"
    }
   ],
   "source": [
    "validate_model(model_Sx5, GreedyV2(), AttentionModel(), 5, 5, 15, size_states= 1000, max_steps= 30)"
   ]
  },
  {
   "cell_type": "code",
   "execution_count": null,
   "metadata": {},
   "outputs": [],
   "source": [
    "model_Sx5.save(\"./models/model_Sx5.h5\")"
   ]
  },
  {
   "cell_type": "markdown",
   "metadata": {},
   "source": [
    "## Model Sx7"
   ]
  },
  {
   "cell_type": "code",
   "execution_count": 6,
   "metadata": {},
   "outputs": [],
   "source": [
    "model_Sx7 = create_model(5, 7, num_stacks= 7)"
   ]
  },
  {
   "cell_type": "markdown",
   "metadata": {},
   "source": [
    "### Entrenamiento"
   ]
  },
  {
   "cell_type": "code",
   "execution_count": 8,
   "metadata": {},
   "outputs": [
    {
     "name": "stdout",
     "output_type": "stream",
     "text": [
      "Epoch 1/10\n",
      "520/520 [==============================] - 34s 56ms/step - loss: 0.1163 - mae: 0.0567 - mse: 0.0273\n",
      "Epoch 2/10\n",
      "520/520 [==============================] - 30s 58ms/step - loss: 0.0783 - mae: 0.0486 - mse: 0.0240\n",
      "Epoch 3/10\n",
      "520/520 [==============================] - 30s 58ms/step - loss: 0.0708 - mae: 0.0443 - mse: 0.0221\n",
      "Epoch 4/10\n",
      "520/520 [==============================] - 30s 58ms/step - loss: 0.0601 - mae: 0.0380 - mse: 0.0189\n",
      "Epoch 5/10\n",
      "520/520 [==============================] - 30s 58ms/step - loss: 0.0522 - mae: 0.0328 - mse: 0.0162\n",
      "Epoch 6/10\n",
      "520/520 [==============================] - 30s 58ms/step - loss: 0.0486 - mae: 0.0304 - mse: 0.0151\n",
      "Epoch 7/10\n",
      "520/520 [==============================] - 30s 58ms/step - loss: 0.0463 - mae: 0.0289 - mse: 0.0144\n",
      "Epoch 8/10\n",
      "520/520 [==============================] - 30s 58ms/step - loss: 0.0449 - mae: 0.0281 - mse: 0.0140\n",
      "Epoch 9/10\n",
      "520/520 [==============================] - 30s 58ms/step - loss: 0.0437 - mae: 0.0275 - mse: 0.0137\n",
      "Epoch 10/10\n",
      "520/520 [==============================] - 30s 58ms/step - loss: 0.0429 - mae: 0.0269 - mse: 0.0135\n",
      "Epoch 1/10\n",
      "528/528 [==============================] - 13s 21ms/step - loss: 0.0630 - mae: 0.0400 - mse: 0.0200\n",
      "Epoch 2/10\n",
      "528/528 [==============================] - 12s 22ms/step - loss: 0.0598 - mae: 0.0382 - mse: 0.0191\n",
      "Epoch 3/10\n",
      "528/528 [==============================] - 12s 22ms/step - loss: 0.0580 - mae: 0.0372 - mse: 0.0187\n",
      "Epoch 4/10\n",
      "528/528 [==============================] - 11s 22ms/step - loss: 0.0566 - mae: 0.0364 - mse: 0.0182\n",
      "Epoch 5/10\n",
      "528/528 [==============================] - 12s 22ms/step - loss: 0.0557 - mae: 0.0359 - mse: 0.0180\n",
      "Epoch 6/10\n",
      "528/528 [==============================] - 12s 22ms/step - loss: 0.0386 - mae: 0.0231 - mse: 0.0115\n",
      "Epoch 7/10\n",
      "528/528 [==============================] - 12s 22ms/step - loss: 0.0316 - mae: 0.0185 - mse: 0.0091\n",
      "Epoch 8/10\n",
      "528/528 [==============================] - 12s 22ms/step - loss: 0.0295 - mae: 0.0170 - mse: 0.0085\n",
      "Epoch 9/10\n",
      "528/528 [==============================] - 12s 22ms/step - loss: 0.0283 - mae: 0.0164 - mse: 0.0082\n",
      "Epoch 10/10\n",
      "528/528 [==============================] - 12s 22ms/step - loss: 0.0271 - mae: 0.0157 - mse: 0.0079\n",
      "Epoch 1/10\n",
      "519/519 [==============================] - 13s 26ms/step - loss: 0.0246 - mae: 0.0139 - mse: 0.0069\n",
      "Epoch 2/10\n",
      "519/519 [==============================] - 13s 25ms/step - loss: 0.0235 - mae: 0.0134 - mse: 0.0067\n",
      "Epoch 3/10\n",
      "519/519 [==============================] - 13s 26ms/step - loss: 0.0224 - mae: 0.0128 - mse: 0.0064\n",
      "Epoch 4/10\n",
      "519/519 [==============================] - 15s 29ms/step - loss: 0.0218 - mae: 0.0124 - mse: 0.0062\n",
      "Epoch 5/10\n",
      "519/519 [==============================] - 16s 31ms/step - loss: 0.0214 - mae: 0.0122 - mse: 0.0061\n",
      "Epoch 6/10\n",
      "519/519 [==============================] - 16s 31ms/step - loss: 0.0210 - mae: 0.0120 - mse: 0.0060\n",
      "Epoch 7/10\n",
      "519/519 [==============================] - 16s 31ms/step - loss: 0.0206 - mae: 0.0118 - mse: 0.0059\n",
      "Epoch 8/10\n",
      "519/519 [==============================] - 16s 31ms/step - loss: 0.0203 - mae: 0.0115 - mse: 0.0058\n",
      "Epoch 9/10\n",
      "519/519 [==============================] - 16s 31ms/step - loss: 0.0197 - mae: 0.0112 - mse: 0.0056\n",
      "Epoch 10/10\n",
      "519/519 [==============================] - 16s 31ms/step - loss: 0.0197 - mae: 0.0113 - mse: 0.0056\n",
      "Epoch 1/10\n",
      "537/537 [==============================] - 23s 43ms/step - loss: 0.0182 - mae: 0.0103 - mse: 0.0051\n",
      "Epoch 2/10\n",
      "537/537 [==============================] - 23s 43ms/step - loss: 0.0171 - mae: 0.0097 - mse: 0.0048\n",
      "Epoch 3/10\n",
      "537/537 [==============================] - 23s 43ms/step - loss: 0.0165 - mae: 0.0093 - mse: 0.0047\n",
      "Epoch 4/10\n",
      "537/537 [==============================] - 23s 43ms/step - loss: 0.0163 - mae: 0.0092 - mse: 0.0046\n",
      "Epoch 5/10\n",
      "537/537 [==============================] - 23s 43ms/step - loss: 0.0158 - mae: 0.0090 - mse: 0.0045\n",
      "Epoch 6/10\n",
      "537/537 [==============================] - 23s 43ms/step - loss: 0.0156 - mae: 0.0088 - mse: 0.0044\n",
      "Epoch 7/10\n",
      "537/537 [==============================] - 23s 43ms/step - loss: 0.0154 - mae: 0.0087 - mse: 0.0044\n",
      "Epoch 8/10\n",
      "537/537 [==============================] - 23s 43ms/step - loss: 0.0151 - mae: 0.0086 - mse: 0.0043\n",
      "Epoch 9/10\n",
      "537/537 [==============================] - 23s 42ms/step - loss: 0.0148 - mae: 0.0084 - mse: 0.0042\n",
      "Epoch 10/10\n",
      "537/537 [==============================] - 22s 41ms/step - loss: 0.0148 - mae: 0.0084 - mse: 0.0042\n",
      "Epoch 1/10\n",
      "528/528 [==============================] - 18s 33ms/step - loss: 0.0185 - mae: 0.0104 - mse: 0.0052\n",
      "Epoch 2/10\n",
      "528/528 [==============================] - 18s 33ms/step - loss: 0.0177 - mae: 0.0100 - mse: 0.0050\n",
      "Epoch 3/10\n",
      "528/528 [==============================] - 21s 41ms/step - loss: 0.0174 - mae: 0.0098 - mse: 0.0049\n",
      "Epoch 4/10\n",
      "528/528 [==============================] - 18s 34ms/step - loss: 0.0174 - mae: 0.0098 - mse: 0.0049\n",
      "Epoch 5/10\n",
      "528/528 [==============================] - 18s 33ms/step - loss: 0.0168 - mae: 0.0095 - mse: 0.0047\n",
      "Epoch 6/10\n",
      "528/528 [==============================] - 18s 33ms/step - loss: 0.0167 - mae: 0.0095 - mse: 0.0047\n",
      "Epoch 7/10\n",
      "528/528 [==============================] - 18s 34ms/step - loss: 0.0163 - mae: 0.0093 - mse: 0.0046\n",
      "Epoch 8/10\n",
      "528/528 [==============================] - 18s 34ms/step - loss: 0.0162 - mae: 0.0093 - mse: 0.0046\n",
      "Epoch 9/10\n",
      "528/528 [==============================] - 18s 34ms/step - loss: 0.0160 - mae: 0.0091 - mse: 0.0046\n",
      "Epoch 10/10\n",
      "528/528 [==============================] - 19s 36ms/step - loss: 0.0158 - mae: 0.0090 - mse: 0.0045\n",
      "Epoch 1/10\n",
      "496/496 [==============================] - 11s 23ms/step - loss: 0.0284 - mae: 0.0166 - mse: 0.0083\n",
      "Epoch 2/10\n",
      "496/496 [==============================] - 12s 23ms/step - loss: 0.0247 - mae: 0.0146 - mse: 0.0072\n",
      "Epoch 3/10\n",
      "496/496 [==============================] - 12s 24ms/step - loss: 0.0240 - mae: 0.0141 - mse: 0.0070\n",
      "Epoch 4/10\n",
      "496/496 [==============================] - 12s 24ms/step - loss: 0.0245 - mae: 0.0144 - mse: 0.0072\n",
      "Epoch 5/10\n",
      "496/496 [==============================] - 12s 25ms/step - loss: 0.0230 - mae: 0.0137 - mse: 0.0068\n",
      "Epoch 6/10\n",
      "496/496 [==============================] - 12s 25ms/step - loss: 0.0226 - mae: 0.0135 - mse: 0.0067\n",
      "Epoch 7/10\n",
      "496/496 [==============================] - 12s 25ms/step - loss: 0.0218 - mae: 0.0131 - mse: 0.0065\n",
      "Epoch 8/10\n",
      "496/496 [==============================] - 12s 25ms/step - loss: 0.0213 - mae: 0.0129 - mse: 0.0064\n",
      "Epoch 9/10\n",
      "496/496 [==============================] - 12s 25ms/step - loss: 0.0210 - mae: 0.0126 - mse: 0.0063\n",
      "Epoch 10/10\n",
      "496/496 [==============================] - 12s 25ms/step - loss: 0.0208 - mae: 0.0125 - mse: 0.0062\n"
     ]
    }
   ],
   "source": [
    "for stack in data_Sx7:\n",
    "    model_Sx7.fit(data_Sx7[stack][\"States\"], data_Sx7[stack][\"Labels\"], batch_size= 32, epochs= 10)"
   ]
  },
  {
   "cell_type": "code",
   "execution_count": 10,
   "metadata": {},
   "outputs": [
    {
     "name": "stderr",
     "output_type": "stream",
     "text": [
      "/Users/slinking/Desktop/Workspace/CPMP_With_attention/.venv/lib/python3.11/site-packages/keras/src/engine/training.py:3103: UserWarning: You are saving your model as an HDF5 file via `model.save()`. This file format is considered legacy. We recommend using instead the native Keras format, e.g. `model.save('my_model.keras')`.\n",
      "  saving_api.save_model(\n"
     ]
    }
   ],
   "source": [
    "model_Sx7.save(\"./models/Sx7/model_Sx7.h5\")"
   ]
  },
  {
   "cell_type": "code",
   "execution_count": null,
   "metadata": {},
   "outputs": [],
   "source": [
    "validate_model(model_Sx7, GreedyV2(), AttentionModel(), 10, 7, 50, 1000, max_steps= 100)"
   ]
  },
  {
   "cell_type": "markdown",
   "metadata": {},
   "source": [
    "# Reinforcement Learning"
   ]
  },
  {
   "cell_type": "code",
   "execution_count": null,
   "metadata": {},
   "outputs": [],
   "source": [
    "reinforcement_training(model_Sx5, 5, 5, 15, GreedyV2(), AttentionModel(), iter= 2, max_steps= 30, epochs= 10, batch_size= 50)"
   ]
  }
 ],
 "metadata": {
  "kernelspec": {
   "display_name": ".venv",
   "language": "python",
   "name": "python3"
  },
  "language_info": {
   "codemirror_mode": {
    "name": "ipython",
    "version": 3
   },
   "file_extension": ".py",
   "mimetype": "text/x-python",
   "name": "python",
   "nbconvert_exporter": "python",
   "pygments_lexer": "ipython3",
   "version": "3.11.9"
  }
 },
 "nbformat": 4,
 "nbformat_minor": 2
}
