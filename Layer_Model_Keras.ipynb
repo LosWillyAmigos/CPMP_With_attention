{
 "cells": [
  {
   "cell_type": "code",
   "execution_count": 1,
   "metadata": {},
   "outputs": [],
   "source": [
    "import keras\n",
    "import numpy as np"
   ]
  },
  {
   "cell_type": "code",
   "execution_count": 8,
   "metadata": {},
   "outputs": [
    {
     "data": {
      "text/plain": [
       "<tf.Tensor: shape=(3,), dtype=float32, numpy=array([0.3783, 0.    , 9.128 ], dtype=float32)>"
      ]
     },
     "execution_count": 8,
     "metadata": {},
     "output_type": "execute_result"
    }
   ],
   "source": [
    "class OutputMultiplication(keras.layers.Layer):\n",
    "    def __init__(self):\n",
    "        super(OutputMultiplication,self).__init__(trainable=False)\n",
    "\n",
    "    def call(self, arr1, arr2):\n",
    "        return arr1 * arr2\n",
    "    \n",
    "# Ejemplo:\n",
    "OutputMultiplication()(np.array([1.,0.,1.]), np.array([0.3783, 1.49331, 9.128]))"
   ]
  },
  {
   "cell_type": "code",
   "execution_count": 3,
   "metadata": {},
   "outputs": [
    {
     "data": {
      "text/plain": [
       "array([1, 1, 1, 0, 0, 0, 1, 1, 1])"
      ]
     },
     "execution_count": 3,
     "metadata": {},
     "output_type": "execute_result"
    }
   ],
   "source": [
    "class LayerExpandOutput(keras.layers.Layer):\n",
    "    def __init__(self):\n",
    "        super(LayerExpandOutput, self).__init__(trainable=False)\n",
    "\n",
    "    def call(self, arr):\n",
    "        list_arr = []\n",
    "        for val in arr:\n",
    "            list_arr.append(np.full((1,arr.shape[0]),val))\n",
    "        return np.hstack(list_arr)[0]\n",
    "    \n",
    "# Ejemplo:\n",
    "#   Entrada: [1,0,1]\n",
    "#   Salida: [1,1,1,0,0,0,1,1,1]\n",
    "LayerExpandOutput()(np.array([1,0,1]))"
   ]
  },
  {
   "cell_type": "code",
   "execution_count": 2,
   "metadata": {},
   "outputs": [
    {
     "data": {
      "text/plain": [
       "array([[0.82338518, 0.69404495, 0.48350379, 0.81435478, 0.23986442,\n",
       "        1.        ],\n",
       "       [0.85840529, 0.8814683 , 0.21083336, 0.36816698, 0.72597241,\n",
       "        0.        ],\n",
       "       [0.50789469, 0.68273425, 0.63497764, 0.29485685, 0.36489388,\n",
       "        0.        ],\n",
       "       [0.27518976, 0.42578569, 0.55538601, 0.04953451, 0.45260999,\n",
       "        1.        ],\n",
       "       [0.49883601, 0.03995382, 0.46985194, 0.08436211, 0.0850969 ,\n",
       "        0.        ]])"
      ]
     },
     "execution_count": 2,
     "metadata": {},
     "output_type": "execute_result"
    }
   ],
   "source": [
    "class ConcatenateLayerState(keras.layers.Layer):\n",
    "    def __init__(self):\n",
    "        super(ConcatenateLayerState,self).__init__()\n",
    "\n",
    "    def call(self, state, label):\n",
    "\n",
    "        matrix = []\n",
    "        for i in range(state.shape[0]):\n",
    "            matrix.append(np.concatenate((state[i],[label[i]])))\n",
    "\n",
    "\n",
    "        return np.array(matrix)\n",
    "    \n",
    "# Ejemplo:\n",
    "ConcatenateLayerState()(np.random.rand(5, 5), np.array([1,0,0,1,0]))"
   ]
  },
  {
   "cell_type": "code",
   "execution_count": null,
   "metadata": {},
   "outputs": [],
   "source": [
    "def create_model_CPMP_Nacho(source_model, destination_model, S, H):\n",
    "    input = keras.layers.Input(shape= (S,H+1))\n",
    "    output_source_model = LayerExpandOutput()(source_model(input))\n",
    "    \n",
    "    return model"
   ]
  },
  {
   "cell_type": "code",
   "execution_count": null,
   "metadata": {},
   "outputs": [],
   "source": [
    "def create_model_CPMP_LosWillyAmigos(source_model, destination_model, S, H):\n",
    "    input = keras.layers.Input(shape= (S,H+1))\n",
    "    concat = ConcatenateLayerState()(input,source_model(input))\n",
    "    output = destination_model(concat)\n",
    "    model = keras.Model(inputs=input,outputs=output)\n",
    "\n",
    "    for layer in model.layers:\n",
    "        layer.trainable=False\n",
    "\n",
    "    return model"
   ]
  }
 ],
 "metadata": {
  "kernelspec": {
   "display_name": "Python 3",
   "language": "python",
   "name": "python3"
  },
  "language_info": {
   "codemirror_mode": {
    "name": "ipython",
    "version": 3
   },
   "file_extension": ".py",
   "mimetype": "text/x-python",
   "name": "python",
   "nbconvert_exporter": "python",
   "pygments_lexer": "ipython3",
   "version": "3.11.5"
  }
 },
 "nbformat": 4,
 "nbformat_minor": 2
}
