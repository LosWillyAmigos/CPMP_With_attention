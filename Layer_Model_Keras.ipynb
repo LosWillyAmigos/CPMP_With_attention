{
 "cells": [
  {
   "cell_type": "code",
   "execution_count": 3,
   "metadata": {},
   "outputs": [
    {
     "name": "stdout",
     "output_type": "stream",
     "text": [
      "Using TensorFlow backend\n"
     ]
    }
   ],
   "source": [
    "import keras\n",
    "import numpy as np\n",
    "import tensorflow as tf"
   ]
  },
  {
   "cell_type": "code",
   "execution_count": 8,
   "metadata": {},
   "outputs": [
    {
     "data": {
      "text/plain": [
       "<tf.Tensor: shape=(3,), dtype=float32, numpy=array([0.3783, 0.    , 9.128 ], dtype=float32)>"
      ]
     },
     "execution_count": 8,
     "metadata": {},
     "output_type": "execute_result"
    }
   ],
   "source": [
    "class OutputMultiplication(keras.layers.Layer):\n",
    "    def __init__(self):\n",
    "        super(OutputMultiplication,self).__init__(trainable=False)\n",
    "\n",
    "    def call(self, arr1, arr2):\n",
    "        return arr1 * arr2\n",
    "    \n",
    "# Ejemplo:\n",
    "OutputMultiplication()(np.array([1.,0.,1.]), np.array([0.3783, 1.49331, 9.128]))"
   ]
  },
  {
   "cell_type": "code",
   "execution_count": 5,
   "metadata": {},
   "outputs": [
    {
     "data": {
      "text/plain": [
       "<tf.Tensor: shape=(2, 9), dtype=int32, numpy=\n",
       "array([[1, 1, 1, 0, 0, 0, 1, 1, 1],\n",
       "       [2, 2, 2, 0, 0, 0, 3, 3, 3]])>"
      ]
     },
     "execution_count": 5,
     "metadata": {},
     "output_type": "execute_result"
    }
   ],
   "source": [
    "class LayerExpandOutput(keras.layers.Layer):\n",
    "    def __init__(self, **kwargs):\n",
    "        super(LayerExpandOutput, self).__init__(**kwargs, trainable=False)\n",
    "\n",
    "    def call(self, inputs):\n",
    "        dim = tf.shape(inputs)[1]\n",
    "        expanded = tf.repeat(inputs, repeats= dim, axis= 1)\n",
    "\n",
    "        return expanded\n",
    "    \n",
    "# Ejemplo:\n",
    "#   Entrada: [1,0,1]\n",
    "#   Salida: [1,1,1,0,0,0,1,1,1]\n",
    "LayerExpandOutput()(np.array([[1,0,1],[2,0,3]]))"
   ]
  },
  {
   "cell_type": "code",
   "execution_count": 4,
   "metadata": {},
   "outputs": [
    {
     "name": "stdout",
     "output_type": "stream",
     "text": [
      "tf.Tensor(\n",
      "[[[1. 2. 3. 1.]\n",
      "  [1. 2. 4. 0.]\n",
      "  [1. 2. 5. 1.]]], shape=(1, 3, 4), dtype=float32)\n",
      "tf.Tensor(\n",
      "[[[1. 2. 3. 0. 0. 0.]\n",
      "  [1. 2. 4. 0. 0. 0.]\n",
      "  [1. 2. 5. 0. 0. 0.]]], shape=(1, 3, 6), dtype=float32)\n",
      "tf.Tensor(\n",
      "[[[1. 2. 3. 0.]\n",
      "  [1. 2. 4. 1.]\n",
      "  [1. 2. 5. 0.]]], shape=(1, 3, 4), dtype=float32)\n"
     ]
    }
   ],
   "source": [
    "import tensorflow as tf\n",
    "\n",
    "# Datos iniciales\n",
    "data = tf.constant([[[1, 2, 3], [1, 2, 4], [1, 2, 5]]], dtype=tf.float32)  # [batch_size, sequence_length, features]\n",
    "labels = tf.constant([[1, 0, 1]], dtype=tf.float32)  # [batch_size, sequence_length]\n"
   ]
  },
  {
   "cell_type": "code",
   "execution_count": 18,
   "metadata": {},
   "outputs": [
    {
     "name": "stdout",
     "output_type": "stream",
     "text": [
      "tf.Tensor(\n",
      "[[[1. 0. 0.]\n",
      "  [0. 2. 0.]\n",
      "  [0. 0. 3.]]\n",
      "\n",
      " [[4. 0. 0.]\n",
      "  [0. 5. 0.]\n",
      "  [0. 0. 6.]]\n",
      "\n",
      " [[7. 0. 0.]\n",
      "  [0. 8. 0.]\n",
      "  [0. 0. 9.]]], shape=(3, 3, 3), dtype=float32)\n"
     ]
    }
   ],
   "source": [
    "import tensorflow as tf\n",
    "\n",
    "# Datos originales\n",
    "datos_originales = [[1, 2, 3], [4, 5, 6], [7,8,9]]  # Por ejemplo, 2 arreglos\n",
    "\n",
    "# Convertir la lista de arreglos en un tensor\n",
    "tensor_arreglos = tf.constant(datos_originales, dtype=tf.float32)\n",
    "\n",
    "# Crear una matriz identidad de la misma forma que los arreglos\n",
    "matriz_identidad = tf.eye(tensor_arreglos.shape[-1], dtype=tf.float32)\n",
    "\n",
    "# Multiplicar cada arreglo por la matriz identidad para obtener la matriz diagonal\n",
    "matrices_diagonales = tensor_arreglos[:, :, tf.newaxis] * matriz_identidad\n",
    "\n",
    "# Imprimir el resultado\n",
    "print(matrices_diagonales)"
   ]
  },
  {
   "cell_type": "code",
   "execution_count": 9,
   "metadata": {},
   "outputs": [
    {
     "data": {
      "text/plain": [
       "<tf.Tensor: shape=(2, 3, 3, 4), dtype=float32, numpy=\n",
       "array([[[[ 1.,  2.,  5.,  1.],\n",
       "         [ 1.,  2.,  3.,  0.],\n",
       "         [ 1.,  2.,  4.,  0.]],\n",
       "\n",
       "        [[ 1.,  2.,  5.,  0.],\n",
       "         [ 1.,  2.,  3.,  1.],\n",
       "         [ 1.,  2.,  4.,  0.]],\n",
       "\n",
       "        [[ 1.,  2.,  5.,  0.],\n",
       "         [ 1.,  2.,  3.,  0.],\n",
       "         [ 1.,  2.,  4.,  1.]]],\n",
       "\n",
       "\n",
       "       [[[ 1.,  2., 50.,  1.],\n",
       "         [ 1.,  2., 30.,  0.],\n",
       "         [ 1.,  2., 40.,  0.]],\n",
       "\n",
       "        [[ 1.,  2., 50.,  0.],\n",
       "         [ 1.,  2., 30.,  1.],\n",
       "         [ 1.,  2., 40.,  0.]],\n",
       "\n",
       "        [[ 1.,  2., 50.,  0.],\n",
       "         [ 1.,  2., 30.,  0.],\n",
       "         [ 1.,  2., 40.,  1.]]]], dtype=float32)>"
      ]
     },
     "execution_count": 9,
     "metadata": {},
     "output_type": "execute_result"
    }
   ],
   "source": [
    "import tensorflow as tf\n",
    "from keras.layers import Concatenate, Input\n",
    "\n",
    "class ConcatenationLayer(keras.layers.Layer):\n",
    "    def __init__(self, **kwargs) -> None:\n",
    "        super(ConcatenationLayer, self).__init__(**kwargs)\n",
    "\n",
    "    def call(self, inputs: tf.TensorArray) -> tf.TensorArray:\n",
    "        matrix = inputs\n",
    "        labels = tf.ones(matrix.shape[1])\n",
    "        labels = tf.expand_dims(labels, axis = 0)\n",
    "        labels = tf.repeat(labels, repeats= tf.shape(matrix)[0], axis= 0)\n",
    "        \n",
    "        # Crear una matriz identidad de la misma forma que los arreglos\n",
    "        matriz_identidad = tf.eye(labels.shape[-1], dtype=tf.float32)\n",
    "\n",
    "        # Multiplicar cada arreglo por la matriz identidad para obtener la matriz diagonal\n",
    "        matrices_diagonales = labels[:, :, tf.newaxis] * matriz_identidad\n",
    "\n",
    "        test = tf.expand_dims(matrices_diagonales, axis= -1)\n",
    "\n",
    "        matrices_copiadas = tf.expand_dims(matrix, axis= 1)\n",
    "        matrices_copiadas = tf.repeat(matrices_copiadas, repeats= labels.shape[1], axis= 1)\n",
    "\n",
    "        results = Concatenate(axis= 3)([matrices_copiadas, test])\n",
    "\n",
    "        return results\n",
    "\n",
    "    \n",
    "# Ejemplo:\n",
    "ConcatenationLayer()(tf.constant([[[1,2,5],[1,2,3],[1,2,4]], [[1,2,50],[1,2,30],[1,2,40]]], dtype= tf.float32))"
   ]
  },
  {
   "cell_type": "code",
   "execution_count": null,
   "metadata": {},
   "outputs": [],
   "source": [
    "[[1,2,50],[1,2,30],[1,2,40]]"
   ]
  },
  {
   "cell_type": "code",
   "execution_count": null,
   "metadata": {},
   "outputs": [],
   "source": [
    "def create_model_CPMP_Nacho(source_model, destination_model, S, H):\n",
    "    input = keras.layers.Input(shape= (S,H+1))\n",
    "    output_source_model = LayerExpandOutput()(source_model(input))\n",
    "    \n",
    "    return model"
   ]
  },
  {
   "cell_type": "code",
   "execution_count": null,
   "metadata": {},
   "outputs": [],
   "source": [
    "def create_model_CPMP_LosWillyAmigos(source_model, destination_model, S, H):\n",
    "    input = keras.layers.Input(shape= (S,H+1))\n",
    "    concat = ConcatenateLayerState()(input,source_model(input))\n",
    "    output = destination_model(concat)\n",
    "    model = keras.Model(inputs=input,outputs=output)\n",
    "\n",
    "    for layer in model.layers:\n",
    "        layer.trainable=False\n",
    "\n",
    "    return model"
   ]
  },
  {
   "cell_type": "code",
   "execution_count": 50,
   "metadata": {},
   "outputs": [
    {
     "data": {
      "text/plain": [
       "<tf.Tensor: shape=(3, 5), dtype=int32, numpy=\n",
       "array([[ 1,  2,  3,  4, 10],\n",
       "       [ 2,  3,  4,  2,  5],\n",
       "       [ 1,  1,  1,  1, 20]])>"
      ]
     },
     "execution_count": 50,
     "metadata": {},
     "output_type": "execute_result"
    }
   ],
   "source": [
    "from keras.layers import Concatenate\n",
    "\n",
    "a = np.array([[1,2,3,4],[2,3,4,2],[1,1,1,1]])\n",
    "b = np.array([[10], [5], [20]])\n",
    "\n",
    "Concatenate()([a,b])"
   ]
  }
 ],
 "metadata": {
  "kernelspec": {
   "display_name": "Python 3",
   "language": "python",
   "name": "python3"
  },
  "language_info": {
   "codemirror_mode": {
    "name": "ipython",
    "version": 3
   },
   "file_extension": ".py",
   "mimetype": "text/x-python",
   "name": "python",
   "nbconvert_exporter": "python",
   "pygments_lexer": "ipython3",
   "version": "3.11.4"
  }
 },
 "nbformat": 4,
 "nbformat_minor": 2
}
