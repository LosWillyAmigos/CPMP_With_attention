{
 "cells": [
  {
   "cell_type": "code",
   "execution_count": 1,
   "metadata": {},
   "outputs": [
    {
     "name": "stdout",
     "output_type": "stream",
     "text": [
      "WARNING:tensorflow:From c:\\Users\\thoma\\AppData\\Local\\Programs\\Python\\Python311\\Lib\\site-packages\\keras\\src\\losses.py:2976: The name tf.losses.sparse_softmax_cross_entropy is deprecated. Please use tf.compat.v1.losses.sparse_softmax_cross_entropy instead.\n",
      "\n"
     ]
    },
    {
     "name": "stderr",
     "output_type": "stream",
     "text": [
      "c:\\Users\\thoma\\AppData\\Local\\Programs\\Python\\Python311\\Lib\\site-packages\\tqdm\\auto.py:21: TqdmWarning: IProgress not found. Please update jupyter and ipywidgets. See https://ipywidgets.readthedocs.io/en/stable/user_install.html\n",
      "  from .autonotebook import tqdm as notebook_tqdm\n"
     ]
    }
   ],
   "source": [
    "from attentional_cpmp.utils.hyperparameter_search import HyperparameterStudy\n",
    "from attentional_cpmp.utils.data_saving.data_json import load_data_from_json"
   ]
  },
  {
   "cell_type": "code",
   "execution_count": 2,
   "metadata": {},
   "outputs": [],
   "source": [
    "import random\n",
    "\n",
    "def split_data(data, key, percentage):\n",
    "    # Obtener el diccionario para la clave específica\n",
    "    subset = data.get(key)\n",
    "    if not subset:\n",
    "        raise KeyError(f\"No existe la clave {key} en el diccionario.\")\n",
    "\n",
    "    states = subset[\"States\"]\n",
    "    labels = subset[\"Labels\"]\n",
    "\n",
    "    # Determinar la cantidad de elementos a extraer\n",
    "    sample_size = int(len(states) * percentage)\n",
    "\n",
    "    # Obtener índices aleatorios para la muestra\n",
    "    indices = random.sample(range(len(states)), sample_size)\n",
    "\n",
    "    # Crear subconjuntos para el 20% y el 80%\n",
    "    sampled_states = [states[i] for i in indices]\n",
    "    sampled_labels = [labels[i] for i in indices]\n",
    "\n",
    "    remaining_states = [states[i] for i in range(len(states)) if i not in indices]\n",
    "    remaining_labels = [labels[i] for i in range(len(labels)) if i not in indices]\n",
    "\n",
    "    return (sampled_states, sampled_labels), (remaining_states, remaining_labels)"
   ]
  },
  {
   "cell_type": "code",
   "execution_count": 3,
   "metadata": {},
   "outputs": [],
   "source": [
    "data_Sx7 = load_data_from_json('CPMP_With_Attention.Sx7_v4.json')"
   ]
  },
  {
   "cell_type": "code",
   "execution_count": 4,
   "metadata": {},
   "outputs": [],
   "source": [
    "(val_x, val_y), (x, y) = split_data(data_Sx7, '5', 0.2)"
   ]
  },
  {
   "cell_type": "code",
   "execution_count": 5,
   "metadata": {},
   "outputs": [
    {
     "data": {
      "text/plain": [
       "(12625, 50503)"
      ]
     },
     "execution_count": 5,
     "metadata": {},
     "output_type": "execute_result"
    }
   ],
   "source": [
    "len(val_x), len(x)"
   ]
  },
  {
   "cell_type": "code",
   "execution_count": 6,
   "metadata": {},
   "outputs": [
    {
     "name": "stderr",
     "output_type": "stream",
     "text": [
      "[I 2024-10-27 14:53:15,236] A new study created in memory with name: Study_Model_CPMP\n"
     ]
    }
   ],
   "source": [
    "study = HyperparameterStudy()"
   ]
  },
  {
   "cell_type": "code",
   "execution_count": 7,
   "metadata": {},
   "outputs": [
    {
     "name": "stdout",
     "output_type": "stream",
     "text": [
      "Directory 'hyperparameter_test/' already exists.\n"
     ]
    }
   ],
   "source": [
    "study.set_training_data(X_train=x, Y_train=y,\n",
    "                        X_val=val_x, Y_val=val_y,\n",
    "                        epochs=10, batch_size=32)\n",
    "\n",
    "study.set_max_config_trial()\n",
    "study.set_config_model(H=7, n_dropout_hide=1, n_dropout_feed=2,\n",
    "                       optimizer='Adam', loss='binary_crossentropy')\n",
    "study.set_config_callbacks()"
   ]
  },
  {
   "cell_type": "code",
   "execution_count": null,
   "metadata": {},
   "outputs": [],
   "source": [
    "study.optimize(n_trials=10)"
   ]
  }
 ],
 "metadata": {
  "kernelspec": {
   "display_name": "Python 3",
   "language": "python",
   "name": "python3"
  },
  "language_info": {
   "codemirror_mode": {
    "name": "ipython",
    "version": 3
   },
   "file_extension": ".py",
   "mimetype": "text/x-python",
   "name": "python",
   "nbconvert_exporter": "python",
   "pygments_lexer": "ipython3",
   "version": "3.11.9"
  }
 },
 "nbformat": 4,
 "nbformat_minor": 2
}
