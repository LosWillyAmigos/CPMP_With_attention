{
  "cells": [
    {
      "cell_type": "code",
      "execution_count": null,
      "metadata": {
        "id": "s5kPbGWvYgyy"
      },
      "outputs": [],
      "source": [
        "import keras\n",
        "import numpy as np"
      ]
    },
    {
      "cell_type": "code",
      "execution_count": null,
      "metadata": {
        "id": "nQB7fqvaYgy0"
      },
      "outputs": [],
      "source": [
        "#@title Capa de keras que transforma las predicciones en labels categoticos\n",
        "#@markdown Genera labels de 1s o 0s acorde a la discriminación del vector.\n",
        "#@markdown La mencionada el miercoles en la reunión\n",
        "\n",
        "class LayerExpand(keras.layers.Layer):\n",
        "    def __init__(self, stacks):\n",
        "        super(LayerExpand,self).__init__()\n",
        "        self.stacks = stacks\n",
        "\n",
        "    def call(self, arr):\n",
        "        list_arr = []\n",
        "        categorical = self.analyser(arr)\n",
        "        for stack in range(self.stacks):\n",
        "            if categorical[stack] == 1:\n",
        "                list_arr.append(np.full((1,self.stacks),1))\n",
        "            else:\n",
        "                list_arr.append(np.full((1,self.stacks),0))\n",
        "\n",
        "        return list_arr\n",
        "\n",
        "    def analyser(self, arr):\n",
        "        err = 0.0001\n",
        "        label = np.zeros((arr.shape[0]))\n",
        "\n",
        "        for i in range(arr.shape[0]):\n",
        "            if arr[i] >= err: label[i] = 1\n",
        "\n",
        "        return label\n",
        ""
      ]
    },
    {
      "cell_type": "code",
      "execution_count": null,
      "metadata": {
        "id": "21XoB9rfYgy2"
      },
      "outputs": [],
      "source": [
        "var = LayerExpand(5)"
      ]
    },
    {
      "cell_type": "code",
      "execution_count": null,
      "metadata": {
        "id": "jSJkS5uEYgy3",
        "outputId": "6a87ed6c-5bf6-478e-b8b8-be12d689abac"
      },
      "outputs": [
        {
          "data": {
            "text/plain": [
              "[array([[0, 0, 0, 0, 0]]),\n",
              " array([[1, 1, 1, 1, 1]]),\n",
              " array([[0, 0, 0, 0, 0]]),\n",
              " array([[1, 1, 1, 1, 1]]),\n",
              " array([[1, 1, 1, 1, 1]])]"
            ]
          },
          "execution_count": 111,
          "metadata": {},
          "output_type": "execute_result"
        }
      ],
      "source": [
        "var(np.array([7.2552335e-05, 6.6169314e-02, 1.5318026e-06, 1.5946893e-01,\n",
        "        9.8755634e-01]))"
      ]
    },
    {
      "cell_type": "code",
      "execution_count": null,
      "metadata": {
        "id": "bxQTOLOIYgy3"
      },
      "outputs": [],
      "source": [
        "#@title Capa de keras que transforma las predicciones en labels categoticos\n",
        "#@markdown Solamente genera labels con aquellos elementos del arreglo original que son valor 1.\n",
        "#@markdown La programada.\n",
        "class LayerExpandState(keras.layers.Layer):\n",
        "    def __init__(self, stacks):\n",
        "        super(LayerExpandState,self).__init__(trainable=False)\n",
        "        self.stacks = stacks\n",
        "\n",
        "    def call(self, labels):\n",
        "        return self.getLabels(labels)\n",
        "\n",
        "    def getLabels(self, arr):\n",
        "        list_ = []\n",
        "        vector = self.analyser(arr)\n",
        "        idx_labels = np.where(vector == 1)[0]\n",
        "        for i in idx_labels:\n",
        "            list_.append(self.to_labels(i, arr.shape[0]))\n",
        "\n",
        "        return np.array(list_)\n",
        "\n",
        "    def analyser(self, arr):\n",
        "        err = 0.0001\n",
        "        label = np.zeros((arr.shape[0]))\n",
        "\n",
        "        for i in range(arr.shape[0]):\n",
        "            if arr[i] >= err: label[i] = 1\n",
        "\n",
        "        return label\n",
        "\n",
        "    def to_labels(self, idx, S):\n",
        "        arr = np.zeros(S)\n",
        "        arr[idx] = 1\n",
        "        return arr\n",
        "\n",
        "\n",
        "\n"
      ]
    },
    {
      "cell_type": "code",
      "execution_count": null,
      "metadata": {
        "id": "cxUQ4pB-Ygy4"
      },
      "outputs": [],
      "source": [
        "aa=LayerExpandState(5)\n"
      ]
    },
    {
      "cell_type": "code",
      "execution_count": null,
      "metadata": {
        "id": "ZXnSwfS7Ygy5",
        "outputId": "b4b54cd2-760d-46db-f4ed-a16263ad624e"
      },
      "outputs": [
        {
          "data": {
            "text/plain": [
              "array([[0., 1., 0., 0., 0.],\n",
              "       [0., 0., 0., 1., 0.],\n",
              "       [0., 0., 0., 0., 1.]])"
            ]
          },
          "execution_count": 98,
          "metadata": {},
          "output_type": "execute_result"
        }
      ],
      "source": [
        "#@markdown salida esperada: [0,1,0,0,0]-[0,0,0,1,0]-[0,0,0,0,1]\n",
        "aa(np.array([7.2552335e-05, 6.6169314e-02, 1.5318026e-06, 1.5946893e-01,\n",
        "        9.8755634e-01]))"
      ]
    }
  ],
  "metadata": {
    "kernelspec": {
      "display_name": "Python 3",
      "language": "python",
      "name": "python3"
    },
    "language_info": {
      "codemirror_mode": {
        "name": "ipython",
        "version": 3
      },
      "file_extension": ".py",
      "mimetype": "text/x-python",
      "name": "python",
      "nbconvert_exporter": "python",
      "pygments_lexer": "ipython3",
      "version": "3.11.5"
    },
    "orig_nbformat": 4,
    "colab": {
      "provenance": []
    }
  },
  "nbformat": 4,
  "nbformat_minor": 0
}