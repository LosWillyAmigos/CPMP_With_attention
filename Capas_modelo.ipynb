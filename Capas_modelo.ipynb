{
 "cells": [
  {
   "cell_type": "code",
   "execution_count": 2,
   "metadata": {},
   "outputs": [],
   "source": [
    "import keras\n",
    "import numpy as np"
   ]
  },
  {
   "cell_type": "code",
   "execution_count": 2,
   "metadata": {},
   "outputs": [],
   "source": [
    "# *********** Capa de vectores 1s o 0s ************* #\n",
    "#                                                    #\n",
    "# Toma un vector de tamaño S predicción, lo pasa a   #\n",
    "# binario, y crea S vectores con valores 0s o 1s en  #\n",
    "# cada uno.                                          #\n",
    "# input : vector de tamaño S con valores flotantes.  #\n",
    "# output : S vectores de tamaño S de valores         #\n",
    "#          binarios, según el vector.                #\n",
    "\n",
    "class LayerExpand(keras.layers.Layer):\n",
    "    def __init__(self, stacks):\n",
    "        super(LayerExpand,self).__init__(trainable=False)\n",
    "        self.stacks = stacks\n",
    "\n",
    "    def call(self, arr):\n",
    "        list_arr = []\n",
    "        categorical = self.analyser(arr)\n",
    "        for stack in range(self.stacks):\n",
    "            if categorical[stack] == 1:\n",
    "                list_arr.append(np.full((1,self.stacks),1))\n",
    "            else: \n",
    "                list_arr.append(np.full((1,self.stacks),0))\n",
    "\n",
    "        return list_arr\n",
    "    \n",
    "    def analyser(self, arr):\n",
    "        err = 0.75\n",
    "        label = np.zeros((arr.shape[0]))\n",
    "        \n",
    "        for i in range(arr.shape[0]):\n",
    "            if arr[i] >= err: label[i] = 1\n",
    "\n",
    "        return label\n",
    "    "
   ]
  },
  {
   "cell_type": "code",
   "execution_count": 6,
   "metadata": {},
   "outputs": [],
   "source": [
    "vector = np.array([1.,0.,1.,0.,0.])"
   ]
  },
  {
   "cell_type": "code",
   "execution_count": 7,
   "metadata": {},
   "outputs": [
    {
     "data": {
      "text/plain": [
       "[array([[1, 1, 1, 1, 1]]),\n",
       " array([[0, 0, 0, 0, 0]]),\n",
       " array([[1, 1, 1, 1, 1]]),\n",
       " array([[0, 0, 0, 0, 0]]),\n",
       " array([[0, 0, 0, 0, 0]])]"
      ]
     },
     "execution_count": 7,
     "metadata": {},
     "output_type": "execute_result"
    }
   ],
   "source": [
    "LayerExpand(5)(vector)"
   ]
  },
  {
   "cell_type": "code",
   "execution_count": 5,
   "metadata": {},
   "outputs": [],
   "source": [
    "# ************* Capa de desarmado ****************** #\n",
    "#                                                    #\n",
    "# Toma una entrada de predicciones flotantes, las    #\n",
    "# transforma a binarias y luego crea r vectores      #\n",
    "# según los r números 1 que aparezcan en el vector   #\n",
    "# original.                                          #\n",
    "# input : Vector de predicciones flotantes           #\n",
    "# output : r vectores binarios.                      #\n",
    "\n",
    "class LayerExpandLabel(keras.layers.Layer):\n",
    "    def __init__(self, stacks):\n",
    "        super(LayerExpandLabel,self).__init__(trainable=False)\n",
    "        self.stacks = stacks\n",
    "    \n",
    "    def call(self, labels):\n",
    "        return self.getLabels(labels)\n",
    "    \n",
    "    def getLabels(self, arr):\n",
    "        list_ = []\n",
    "        vector = self.analyser(arr)\n",
    "        idx_labels = np.where(vector == 1)[0]\n",
    "        for i in idx_labels:\n",
    "            list_.append(self.to_labels(i, arr.shape[0]))\n",
    "\n",
    "        return np.array(list_)\n",
    "\n",
    "    def analyser(self, arr):\n",
    "        err = 0.75\n",
    "        label = np.zeros((arr.shape[0]))\n",
    "        \n",
    "        for i in range(arr.shape[0]):\n",
    "            if arr[i] >= err: label[i] = 1\n",
    "\n",
    "        return label\n",
    "    \n",
    "    def to_labels(self, idx, S):\n",
    "        arr = np.zeros(S)\n",
    "        arr[idx] = 1\n",
    "        return arr \n",
    "\n",
    "\n",
    "\n"
   ]
  },
  {
   "cell_type": "code",
   "execution_count": 97,
   "metadata": {},
   "outputs": [],
   "source": [
    "# ********* Capa predictora de destino ************ #\n",
    "# ************* múltiples salidas****************** #\n",
    "#                                                   #\n",
    "# Utiliza el modelo de destino para hacer las pre-  #\n",
    "# dicciones acorde a los estados.                   #\n",
    "#                                                   #\n",
    "# input : N estados de S x (H + 2).                 #\n",
    "# output : N predicciones de 1 x S.                 #\n",
    "\n",
    "\n",
    "class ConcatenateLayer(keras.layers.Layer):\n",
    "    def __init__(self):\n",
    "        super(ConcatenateLayer,self).__init__()\n",
    "\n",
    "    def call(self, state, labels):\n",
    "        new_data = []\n",
    "\n",
    "        for label in labels:\n",
    "            copy_state = np.copy(state)\n",
    "            matrix = []\n",
    "            for i in range(copy_state.shape[0]):\n",
    "                matrix.append(np.concatenate((copy_state[i],[label[i]])))\n",
    "            new_data.append(np.array(matrix))\n",
    "\n",
    "        return np.array(new_data)"
   ]
  },
  {
   "cell_type": "code",
   "execution_count": 135,
   "metadata": {},
   "outputs": [],
   "source": [
    "# ******** Capa predictoria de destino ************ #\n",
    "# ************* Multiples salidas****************** #\n",
    "#                                                   #\n",
    "# Utiliza el modelo de destino para hacer las pre-  #\n",
    "# dicciones acorde a los estados.                   #\n",
    "#                                                   #\n",
    "# input : N estados de S x (H + 2).                 #\n",
    "# output : N predicciones de 1 x S.                 #\n",
    "\n",
    "\n",
    "class PredictLayer(keras.layers.Layer):\n",
    "    def __init__(self, model):\n",
    "        super(PredictLayer,self).__init__()\n",
    "        self.model = model\n",
    "\n",
    "    def call(self, states):\n",
    "        \n",
    "        return np.array(self.model(states))"
   ]
  },
  {
   "cell_type": "code",
   "execution_count": 14,
   "metadata": {},
   "outputs": [],
   "source": [
    "class LayerExpandOutput(keras.layers.Layer):\n",
    "    def __init__(self):\n",
    "        super(LayerExpandOutput, self).__init__(trainable=False)\n",
    "\n",
    "    def call(self, arr):\n",
    "        list_arr = []\n",
    "        for val in arr:\n",
    "            list_arr.append(np.full((1,arr.shape[0]),val))\n",
    "        return np.hstack(list_arr)[0]\n"
   ]
  },
  {
   "cell_type": "markdown",
   "metadata": {},
   "source": [
    "# New Layers"
   ]
  },
  {
   "cell_type": "code",
   "execution_count": 15,
   "metadata": {},
   "outputs": [
    {
     "data": {
      "text/plain": [
       "array([1, 1, 1, 0, 0, 0, 1, 1, 1])"
      ]
     },
     "execution_count": 15,
     "metadata": {},
     "output_type": "execute_result"
    }
   ],
   "source": [
    "LayerExpandOutput()(np.array([1,0,1]))"
   ]
  },
  {
   "cell_type": "code",
   "execution_count": 16,
   "metadata": {},
   "outputs": [],
   "source": [
    "class ConcatenateLayerState(keras.layers.Layer):\n",
    "    def __init__(self):\n",
    "        super(ConcatenateLayerState,self).__init__()\n",
    "\n",
    "    def call(self, state, label):\n",
    "\n",
    "        matrix = []\n",
    "        for i in range(state.shape[0]):\n",
    "            matrix.append(np.concatenate((state[i],[label[i]])))\n",
    "\n",
    "\n",
    "        return np.array(matrix)"
   ]
  },
  {
   "cell_type": "code",
   "execution_count": 20,
   "metadata": {},
   "outputs": [
    {
     "data": {
      "text/plain": [
       "array([[0.88468987, 0.00551156, 0.99806726, 0.69934541, 0.3596051 ,\n",
       "        1.        ],\n",
       "       [0.37355953, 0.74380708, 0.97602624, 0.56751066, 0.14217599,\n",
       "        0.        ],\n",
       "       [0.96196651, 0.74498957, 0.61904216, 0.19567636, 0.46042445,\n",
       "        0.        ],\n",
       "       [0.07917506, 0.63422531, 0.53008091, 0.30416709, 0.99408752,\n",
       "        1.        ],\n",
       "       [0.65223879, 0.31226313, 0.37174976, 0.77130944, 0.43044087,\n",
       "        0.        ]])"
      ]
     },
     "execution_count": 20,
     "metadata": {},
     "output_type": "execute_result"
    }
   ],
   "source": [
    "ConcatenateLayerState()(np.random.rand(5, 5), np.array([1,0,0,1,0]))"
   ]
  }
 ],
 "metadata": {
  "kernelspec": {
   "display_name": "Python 3",
   "language": "python",
   "name": "python3"
  },
  "language_info": {
   "codemirror_mode": {
    "name": "ipython",
    "version": 3
   },
   "file_extension": ".py",
   "mimetype": "text/x-python",
   "name": "python",
   "nbconvert_exporter": "python",
   "pygments_lexer": "ipython3",
   "version": "3.11.5"
  },
  "orig_nbformat": 4
 },
 "nbformat": 4,
 "nbformat_minor": 2
}
