{
  "cells": [
    {
      "cell_type": "code",
      "execution_count": null,
      "metadata": {
        "colab": {
          "base_uri": "https://localhost:8080/"
        },
        "id": "p2096cj--a8h",
        "outputId": "102df155-0268-4dcf-be73-4a62d31fee7d"
      },
      "outputs": [
        {
          "name": "stdout",
          "output_type": "stream",
          "text": [
            "/content/CPMP_With_attention/CPMP-ML\n"
          ]
        }
      ],
      "source": [
        "%cd CPMP-ML"
      ]
    },
    {
      "cell_type": "code",
      "execution_count": 1,
      "metadata": {
        "id": "3biRLPKybpSW"
      },
      "outputs": [],
      "source": [
        "import numpy as np\n",
        "import keras"
      ]
    },
    {
      "cell_type": "code",
      "execution_count": 2,
      "metadata": {
        "cellView": "form",
        "id": "BujraXmJ6F1o"
      },
      "outputs": [],
      "source": [
        "#@title Carga de modelos directa de github (Experimental)\n",
        "import requests\n",
        "import io\n",
        "url_origin_model = \"https://github.com/LosWillyAmigos/CPMP_With_attention/blob/main/models/model_cpmp_origin_5x5_multi.h5\"\n",
        "url_destination_model = \"https://github.com/LosWillyAmigos/CPMP_With_attention/blob/main/models/model_cpmp_dest_5x5.h5\"\n",
        "\n",
        "def load_model(url):\n",
        "  response = requests.get(url)\n",
        "\n",
        "  if response.status_code == 200:\n",
        "      return keras.models.load_model(io.BytesIO(response.content))\n",
        "\n",
        "  print(\"Error al descargar el modelo.\")\n",
        "  return None"
      ]
    },
    {
      "cell_type": "code",
      "execution_count": 3,
      "metadata": {
        "id": "Yc-63iz769vC"
      },
      "outputs": [],
      "source": [
        "#@title Importado de modelo origin - destino 5x5\n",
        "origin_model = keras.models.load_model('model_cpmp_origin_5x5_multi.h5')\n",
        "destination_model = keras.models.load_model('model_cpmp_dest_5x5.h5')"
      ]
    },
    {
      "cell_type": "code",
      "execution_count": 67,
      "metadata": {
        "id": "GLAXRJuDJYXA"
      },
      "outputs": [],
      "source": [
        "#@title Clase para manejar datos\n",
        "class CPMP_AI():\n",
        "  def __init__(self, m1, m2, S, H):\n",
        "    self.stacks = S\n",
        "    self.height = H\n",
        "    self.model_1 = m1\n",
        "    self.model_2 = m2\n",
        "\n",
        "  def predict(self, state):\n",
        "    origin_labels = self.model_1.predict(state)[0]\n",
        "\n",
        "    origin_labels_categorical = self.label_categorical(origin_labels)\n",
        "\n",
        "    states = self.states_with_labels(state, origin_labels_categorical)\n",
        "\n",
        "    destination_labels = self.model_2(states)\n",
        "\n",
        "    destination_labels_categorical = self.destination_analyzer(destination_labels)\n",
        "\n",
        "    return zip(origin_labels_categorical, destination_labels_categorical)\n",
        "\n",
        "\n",
        "  ## ******** OBTENER CATEGORIA DE MODELO ORIGEN ******** ##\n",
        "  ## Toma el arreglo de predicciones y luego convierte a  ##\n",
        "  ## etiquetas categoricas.                               ##\n",
        "  ## input  :                                             ##\n",
        "  ##  - arr : arreglo de valores entre 0 y 1.             ##\n",
        "  ##  - sep : cambia el valor de la etiqueta según la se- ##\n",
        "  ##        paración.                                     ##\n",
        "  ## output : arreglo de arreglos con las etiquetas con-  ##\n",
        "  ##        vertidas.                                     ##\n",
        "  def label_categorical(self, arr = None):\n",
        "    list_categorical = []\n",
        "    label = self.analyzer(arr)\n",
        "    idx_labels = np.where(label == 1)[0]\n",
        "\n",
        "    for idx in idx_labels:\n",
        "      list_categorical.append(self.to_labels(idx, self.stacks))\n",
        "    return np.array(list_categorical)\n",
        "\n",
        "  def to_labels(self, idx, S):\n",
        "    arr = np.zeros(S)\n",
        "    arr[idx] = 1\n",
        "    return arr\n",
        "\n",
        "  def destination_analyzer(self, labels):\n",
        "    destination_list = []\n",
        "    for _ in labels:\n",
        "      print(_)\n",
        "      destination_list.append(self.analyzer(_))\n",
        "\n",
        "    return np.array(destination_list)\n",
        "  ## ******** Pasar de vector flotante a binario ******** ##\n",
        "  ## Recibe un vector de elementos flotantes, este análiza##\n",
        "  ## Mediante el promedio si se transforma a 1 o 0 el ele-##\n",
        "  ## mento i-ésimo.                                       ##\n",
        "  def analyzer(self, arr):\n",
        "    vector = np.square(arr)\n",
        "    err = np.mean(vector) + np.std(vector)\n",
        "    labels = []\n",
        "    for i in range(arr.shape[0]):\n",
        "      if vector[i] < err: labels.append(0)\n",
        "      else: labels.append(1)\n",
        "\n",
        "    return np.array(labels, dtype='float64')\n",
        "  ## ******* OBTENER DATOS PARA EL SEGUNDO MODELO ******* ##\n",
        "  ## Concatenar los labels con el estado inicial para el  ##\n",
        "  ## segundo modelo.                                      ##\n",
        "  ## input:                                               ##\n",
        "  ##      - state : estado actual en forma matricial.     ##\n",
        "  ##      - labels : lista de etiquetas en forma de array.##\n",
        "  def states_with_labels(self, state, labels):\n",
        "    list_states = []\n",
        "\n",
        "    for label in labels:\n",
        "      list_states.append(self.concatenate_state(state[0], label))\n",
        "\n",
        "    return np.array(list_states)\n",
        "\n",
        "  def concatenate_state(self, state, label):\n",
        "    new_data = []\n",
        "\n",
        "    for i in range(state.shape[0]):\n",
        "       stack = state[i].tolist()\n",
        "       stack.append(label[i])\n",
        "       new_data.append(stack)\n",
        "\n",
        "    return np.stack(new_data)\n",
        "\n"
      ]
    },
    {
      "cell_type": "markdown",
      "metadata": {
        "id": "teZVlnif_CYQ"
      },
      "source": [
        "# Cargar datos"
      ]
    },
    {
      "cell_type": "code",
      "execution_count": 31,
      "metadata": {
        "id": "VbU8IF5I_B6C"
      },
      "outputs": [],
      "source": [
        "#@title Función para cargar datos\n",
        "\n",
        "#************** | load_data() | ************#\n",
        "# El proposito de esta función es cargar    #\n",
        "# los datos almacenados en un csv para el   #\n",
        "# entrenamiento de la red neuronal.         #\n",
        "#                                           #\n",
        "# Input:                                    #\n",
        "#     - name: Nombre del archivo con su     #\n",
        "#             dirección correspondiente     #\n",
        "#             sin el .csv.                  #\n",
        "#                                           #\n",
        "# Output:                                   #\n",
        "#      Retorna 3 arreglos, el primero       #\n",
        "#      corresponde a una lista de estados,  #\n",
        "#      el segundo a una lista de labels     #\n",
        "#      de stacks de origen y por último una #\n",
        "#      lista de posibles stacks de destino. #\n",
        "def load_data(name):\n",
        "    data = []\n",
        "    labels_1 = []\n",
        "    labels_2 = []\n",
        "\n",
        "    with open(name + '.csv', 'r') as archivo:\n",
        "        total = int(archivo.readline().split(':')[1])\n",
        "        line = archivo.readline().split(':')\n",
        "        size_stacks = int(line[1].split(',')[0])\n",
        "        size_height = int(line[2])\n",
        "        archivo.readline()\n",
        "\n",
        "        for i in range(total):\n",
        "            matrix = archivo.readline().split(':')[1].split(',')\n",
        "            matrix = np.array(matrix, dtype= float)\n",
        "            matrix = np.reshape(matrix, (size_stacks, size_height))\n",
        "\n",
        "            label_1 = archivo.readline().split(':')[1].split(',')\n",
        "            label_1 = np.array(label_1, dtype= float)\n",
        "            label_2 = archivo.readline().split(':')[1].split(',')\n",
        "            label_2 = np.array(label_2, dtype= float)\n",
        "\n",
        "            data.append(matrix)\n",
        "            labels_1.append(label_1)\n",
        "            labels_2.append(label_2)\n",
        "\n",
        "            archivo.readline()\n",
        "\n",
        "    return np.stack(data), np.stack(labels_1), np.stack(labels_2)"
      ]
    },
    {
      "cell_type": "code",
      "execution_count": 32,
      "metadata": {
        "colab": {
          "base_uri": "https://localhost:8080/"
        },
        "id": "PA2DABhE_Jy5",
        "outputId": "525367c8-b41e-4cf3-e59f-b95791b938d9"
      },
      "outputs": [],
      "source": [
        "data, label_1, label_2 = load_data(\"data_5x5_SO_Multiple_alpha\")"
      ]
    },
    {
      "cell_type": "code",
      "execution_count": 68,
      "metadata": {
        "id": "MOrA8iGGCFHg"
      },
      "outputs": [],
      "source": [
        "model = CPMP_AI(origin_model,destination_model,5,6)"
      ]
    },
    {
      "cell_type": "code",
      "execution_count": 58,
      "metadata": {
        "colab": {
          "base_uri": "https://localhost:8080/"
        },
        "id": "DUax8Gn0_zSK",
        "outputId": "d94a57dd-7298-4223-cc4c-6178c204ca2b"
      },
      "outputs": [
        {
          "data": {
            "text/plain": [
              "(array([[1.        , 2.        , 2.        , 2.        , 0.93333333,\n",
              "         0.86666667],\n",
              "        [0.        , 2.        , 2.        , 0.6       , 0.8       ,\n",
              "         0.2       ],\n",
              "        [1.        , 2.        , 2.        , 2.        , 2.        ,\n",
              "         0.53333333],\n",
              "        [0.        , 2.        , 0.66666667, 0.2       , 0.33333333,\n",
              "         0.33333333],\n",
              "        [0.        , 0.6       , 0.13333333, 0.6       , 0.66666667,\n",
              "         0.4       ]]),\n",
              " array([0., 1., 0., 1., 1.]),\n",
              " array([0., 1., 0., 1., 1.]))"
            ]
          },
          "execution_count": 58,
          "metadata": {},
          "output_type": "execute_result"
        }
      ],
      "source": [
        "data[2819], label_1[2819], label_2[2819]"
      ]
    },
    {
      "cell_type": "code",
      "execution_count": 69,
      "metadata": {
        "colab": {
          "base_uri": "https://localhost:8080/"
        },
        "id": "pi8c8tzXCSPe",
        "outputId": "c9986dc2-76f8-4854-b7dd-56db9bef0e0c"
      },
      "outputs": [
        {
          "name": "stdout",
          "output_type": "stream",
          "text": [
            "1/1 [==============================] - 0s 31ms/step\n",
            "tf.Tensor([2.1842035e-04 1.3219492e-04 9.9951887e-01 4.4355660e-05 8.6173437e-05], shape=(5,), dtype=float32)\n"
          ]
        }
      ],
      "source": [
        "labels = model.predict(np.array([data[2819]]))"
      ]
    },
    {
      "cell_type": "code",
      "execution_count": 70,
      "metadata": {
        "colab": {
          "base_uri": "https://localhost:8080/"
        },
        "id": "6TmaqdxMHosf",
        "outputId": "dd85db70-c42a-4db9-8fde-14ea408acfd7"
      },
      "outputs": [
        {
          "name": "stdout",
          "output_type": "stream",
          "text": [
            "[0. 0. 0. 0. 1.] [0. 0. 1. 0. 0.]\n"
          ]
        }
      ],
      "source": [
        "for x, y in labels:\n",
        "  print(x,y)"
      ]
    }
  ],
  "metadata": {
    "colab": {
      "provenance": []
    },
    "kernelspec": {
      "display_name": "Python 3",
      "name": "python3"
    },
    "language_info": {
      "codemirror_mode": {
        "name": "ipython",
        "version": 3
      },
      "file_extension": ".py",
      "mimetype": "text/x-python",
      "name": "python",
      "nbconvert_exporter": "python",
      "pygments_lexer": "ipython3",
      "version": "3.11.5"
    }
  },
  "nbformat": 4,
  "nbformat_minor": 0
}
