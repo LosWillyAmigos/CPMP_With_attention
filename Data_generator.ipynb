{
 "cells": [
  {
   "cell_type": "code",
   "execution_count": null,
   "metadata": {
    "collapsed": true
   },
   "outputs": [],
   "source": [
    "%cd CPMP-ML"
   ]
  },
  {
   "cell_type": "markdown",
   "source": [
    "## Librerias Necesarias"
   ],
   "metadata": {
    "collapsed": false
   }
  },
  {
   "cell_type": "code",
   "execution_count": null,
   "outputs": [],
   "source": [
    "import numpy as np\n",
    "import pandas as pd\n",
    "import keras\n",
    "from keras.layers import Input, Add, Dense, MultiHeadAttention, LayerNormalization, Dropout, Flatten\n",
    "from keras.models import Model, load_model\n",
    "from keras.utils import to_categorical\n",
    "from sklearn.metrics import mean_squared_error,mean_absolute_error\n",
    "from sklearn.metrics import accuracy_score\n",
    "import cpmp_ml\n",
    "import numpy as np\n",
    "from cpmp_ml import generate_random_layout\n",
    "import tensorflow as tf\n",
    "from copy import deepcopy\n",
    "from sklearn.model_selection import train_test_split\n",
    "import matplotlib.pyplot as plt"
   ],
   "metadata": {
    "collapsed": false
   }
  },
  {
   "cell_type": "code",
   "execution_count": null,
   "outputs": [],
   "source": [
    "%cd .."
   ],
   "metadata": {
    "collapsed": false
   }
  },
  {
   "cell_type": "markdown",
   "source": [
    "# Funciones necesarias"
   ],
   "metadata": {
    "collapsed": false
   }
  },
  {
   "cell_type": "code",
   "execution_count": null,
   "outputs": [],
   "source": [
    "#************* | Función is_valid_BG_move() | ****************#\n",
    "# El proposito de esta función es validar si el movimiento    #\n",
    "# dentro del estado actual del problema actual al que se le   #\n",
    "# desea realizar sirve para resolver el problema o no.        #\n",
    "#                                                             #\n",
    "# Input:                                                      #\n",
    "#     - layout: Variable que contiene el estado al que se     #\n",
    "#               le desea realizar el movimiento.              #\n",
    "#     - s_o: Stack de origen                                  #\n",
    "#     - S_d: Stack de destino                                 #\n",
    "#                                                             #\n",
    "# Output:                                                     #\n",
    "#     La función retorna True en caso de ser un movimiento    #\n",
    "#     posible o False en caso contrario.                      #\n",
    "def is_valid_BG_move(layout, s_o, s_d):\n",
    "    if (s_o != s_d  and len(layout.stacks[s_o]) > 0\n",
    "            and  len(layout.stacks[s_d]) < layout.H\n",
    "            and layout.is_sorted_stack(s_o)==False\n",
    "            and layout.is_sorted_stack(s_d)==True\n",
    "            and layout.gvalue(s_o) <= layout.gvalue(s_d)):\n",
    "        return True\n",
    "\n",
    "    else: return False"
   ],
   "metadata": {
    "collapsed": false
   }
  },
  {
   "cell_type": "code",
   "execution_count": null,
   "outputs": [],
   "source": [
    "#*********** | Función select_bg_move() | ************#\n",
    "# El proposito de esta función es seleccionar un      #\n",
    "# movimiento que optimice la diferencia entre las     #\n",
    "# prioridades entre los contenedores del stack de     #\n",
    "# destino y el stack de origen.                       #\n",
    "#                                                     #\n",
    "# Input:                                              #\n",
    "#     - layout: Variable que contiene el estado       #\n",
    "#               actual al que se le desea realizar    #\n",
    "#               el movimiento.                        #\n",
    "#                                                     #\n",
    "# Output:                                             #\n",
    "#   Retorna una tupla indicando el stack de origen    #\n",
    "#   y el stack de destino que minimiza la             #\n",
    "#   diferencia antes mencionada o en caso contrario   #\n",
    "#   retorna None.                                     #\n",
    "def select_bg_move(layout):\n",
    "    bg_move = None # Tupla de movimiento optimo\n",
    "    S=len(layout.stacks) # Cantidad de stacks\n",
    "    min_diff = 100\n",
    "    for s_o in range(S):\n",
    "        for s_d in range(S):\n",
    "            if is_valid_BG_move(layout, s_o, s_d):\n",
    "                diff = layout.gvalue(s_d) - layout.gvalue(s_o)\n",
    "                if min_diff > diff:\n",
    "                    min_diff = diff\n",
    "                    bg_move = (s_o,s_d)\n",
    "    return bg_move"
   ],
   "metadata": {
    "collapsed": false
   }
  },
  {
   "cell_type": "code",
   "execution_count": null,
   "outputs": [],
   "source": [
    "#************* | Función greedy | **************#\n",
    "# El proposito de esta función es utilizar un   #\n",
    "# algoritmo greedy para resolver el problema    #\n",
    "# CPMP.                                         #\n",
    "#                                               #\n",
    "# Input:                                        #\n",
    "#     - layout: El estado al cual se le desea   #\n",
    "#               aplicar el algoritmo greedy     #\n",
    "#               para resolverlo.                #\n",
    "# Output:                                       #\n",
    "#     La función retorna la cantidad de         #\n",
    "#     movimientos que toma resolver el problema #\n",
    "#     con el algoritmo y los movimientos que    #\n",
    "#     debe llevar a cabo, en caso de no poder   #\n",
    "#     ser resuelto retorna como cantidad de     #\n",
    "#     pasos -1 y None en movimientos.           #\n",
    "def greedy(layout):\n",
    "    moves = []\n",
    "    steps = 0\n",
    "    while layout.unsorted_stacks>0:\n",
    "        bg_move=select_bg_move(layout)\n",
    "        if bg_move is not None:\n",
    "            moves.append(bg_move)\n",
    "            layout.move(bg_move)\n",
    "        else:\n",
    "            return -1, None # no lo resuelve\n",
    "        steps +=1\n",
    "\n",
    "    if layout.unsorted_stacks==0:\n",
    "        return steps, moves\n",
    "    return -1, None"
   ],
   "metadata": {
    "collapsed": false
   }
  },
  {
   "cell_type": "code",
   "execution_count": null,
   "outputs": [],
   "source": [
    "#**************** | Función unlist() | ***************#\n",
    "# El proposito de esta función es unificar las        #\n",
    "# diversas listas de datos con los nuevos datos a     #\n",
    "# ingresar.                                           #\n",
    "#                                                     #\n",
    "# Input:                                              #\n",
    "#     - data: Lista de matrices principal.            #\n",
    "#     - labels1: Lista de stacks de origen principal. #\n",
    "#     - labels2: Lista de stacks de destino principal.#\n",
    "#     - state: Lista de matrices con nuevos datos.    #\n",
    "#     - source: Lista de stacks de origen con nuevos  #\n",
    "#               datos.                                #\n",
    "#     - destination: Lista de stacks de destino con   #\n",
    "#                    nuevos datos.                    #\n",
    "#                                                     #\n",
    "# Output:                                             #\n",
    "#     No retorna valores.                             #\n",
    "def unlist(data,labels1, labels2, state, source, destination):\n",
    "    n = len(source) # Cantidad de datos nuevos\n",
    "    for i in range(n):\n",
    "        data.append(state[i])\n",
    "        labels1.append(source[i])\n",
    "        labels2.append(destination[i])"
   ],
   "metadata": {
    "collapsed": false
   }
  },
  {
   "cell_type": "code",
   "execution_count": null,
   "outputs": [],
   "source": [
    "#************* | get_ann_state() | **************#\n",
    "# El proposito de esta función preparar los      #\n",
    "# datos de un estado del problema CPMP para que  #\n",
    "# pueda ser leído por una red neuronal.          #\n",
    "#                                                #\n",
    "# Input:                                         #\n",
    "#     - layout: Estado actual del problema CPMP. #\n",
    "#                                                #\n",
    "# Output:                                        #\n",
    "#     Retorna una matriz con los datos           #\n",
    "#     normalizados.                              #\n",
    "def get_ann_state(layout):\n",
    "    S=len(layout.stacks) # Cantidad de stacks\n",
    "    #matriz de stacks\n",
    "    b = 2. * np.ones([S,layout.H + 1]) # Matriz normalizada\n",
    "    for i,j in enumerate(layout.stacks):\n",
    "        b[i][layout.H-len(j) + 1:] = [k/layout.total_elements for k in j]\n",
    "        b[i][0] = layout.is_sorted_stack(i)\n",
    "    b.shape=(S,(layout.H + 1))\n",
    "    return b\n",
    "\n",
    "#overriding the function in the module\n",
    "cpmp_ml.get_ann_state = get_ann_state"
   ],
   "metadata": {
    "collapsed": false
   }
  },
  {
   "cell_type": "code",
   "execution_count": null,
   "outputs": [],
   "source": [
    "#************ | convert_label() | ************#\n",
    "# El proposito de esta función es convertir   #\n",
    "# una matriz en una lista con los datos       #\n",
    "# apilados de forma que una red neuronal los  #\n",
    "# use como etiquetas.                         #\n",
    "#                                             #\n",
    "# Input:                                      #\n",
    "#     - score: Una matriz con datos binarios. #\n",
    "#                                             #\n",
    "# Output:                                     #\n",
    "#      Retorna una lista con los datos de la  #\n",
    "#      matriz apilados.                       #\n",
    "def convert_label(score):\n",
    "    list_score = []\n",
    "\n",
    "    for i in score:\n",
    "        list_score.append(i)\n",
    "\n",
    "    return np.array(list_score)"
   ],
   "metadata": {
    "collapsed": false
   }
  },
  {
   "cell_type": "code",
   "execution_count": null,
   "outputs": [],
   "source": [
    "#************ | generate_steps_of_a_state() | *****************#\n",
    "# El proposito de esta función es generar todos los            #\n",
    "# movimientos que resuelven un estado a través de un algorimo  #\n",
    "# greedy.                                                      #\n",
    "#                                                              #\n",
    "# Input:                                                       #\n",
    "#     - layout: El estado actual que se desea resolver.        #\n",
    "#                                                              #\n",
    "# Output:                                                      #\n",
    "#      - states: Lista de todos los estados de la solución.    #\n",
    "#      - source_tags: Lista de todos los stacks de origen.     #\n",
    "#      - destination_tags: Lista de todos los stacks de        #\n",
    "#                          destino.                            #\n",
    "#       En caso de no poder resolver el estado actual,         #\n",
    "#       cada una de las variables antes mencionadas retorna    #\n",
    "#       None.                                                  #\n",
    "def generate_steps_of_a_state(layout):\n",
    "    states = [] # estados antes de movimiento\n",
    "    source_tags = [] # etiquetas origen\n",
    "    destination_tags = []  # etiquetas destino\n",
    "\n",
    "    aux = deepcopy(layout)  # creación de copia de objeto\n",
    "\n",
    "    steps, moves = greedy(aux)\n",
    "    if steps == -1:\n",
    "        return None, None, None\n",
    "\n",
    "    for i in range(steps):\n",
    "        states.append(get_ann_state(layout)) # antes del movimiento\n",
    "        source_tags.append(convert_label(to_categorical(moves[i][0],len(layout.stacks))))\n",
    "        destination_tags.append(convert_label(to_categorical(moves[i][1],len(layout.stacks))))\n",
    "        layout.move(moves[i])\n",
    "        aux = deepcopy(layout)\n",
    "\n",
    "    return states, source_tags, destination_tags"
   ],
   "metadata": {
    "collapsed": false
   }
  },
  {
   "cell_type": "code",
   "execution_count": null,
   "outputs": [],
   "source": [
    "#*************** | create_different_states() | ***************#\n",
    "# El proposito de esta función es crear diferentes            #\n",
    "# estados para el problema CPMP con sus respectivas           #\n",
    "# soluciones calculadas con un algoritmo greedy.              #\n",
    "#                                                             #\n",
    "# Input:                                                      #\n",
    "#     - S: Cantidad de stacks.                                #\n",
    "#     - H: Altura de los stacks                               #\n",
    "#     - max_priority_container: la prioridad máxima de        #\n",
    "#                               los contenedores y a la       #\n",
    "#                               vez el total de contenedores. #\n",
    "#     - n: cantidad de nuevos estados.                        #\n",
    "# Output:                                                     #\n",
    "#     Retorna arreglos que representan los distintos          #\n",
    "#     estados con otros dos arreglos que contienen sus        #\n",
    "#     posibles stacks de origen y de destino.                 #\n",
    "def create_different_states(S, H, max_priority_container, n):\n",
    "    data_state = []\n",
    "    labels_source = []\n",
    "    labels_destination = []\n",
    "    iter = 0\n",
    "    while iter < n:\n",
    "        layout = generate_random_layout(S,H,max_priority_container)\n",
    "        state, source, destination = generate_steps_of_a_state(layout)\n",
    "        if state == None and source == None and destination == None: continue\n",
    "        unlist(data_state,labels_source,labels_destination,state,source,destination)\n",
    "        iter+=1\n",
    "\n",
    "    return np.stack(data_state), np.stack(labels_source), np.stack(labels_destination)"
   ],
   "metadata": {
    "collapsed": false
   }
  },
  {
   "cell_type": "code",
   "execution_count": null,
   "outputs": [],
   "source": [
    "#***************** | save_data() | *****************#\n",
    "# El proposito de esta función es almacenar datos   #\n",
    "# de entrenamiento en un archivo csv.               #\n",
    "#                                                   #\n",
    "# Input:                                            #\n",
    "#     - data: Lista de matrices con los estados     #\n",
    "#             correspondientes.                     #\n",
    "#     - labels_1: Lista con los posibles stacks de  #\n",
    "#                 origen.                           #\n",
    "#     - labels_2: Lista con los posibles stacks de  #\n",
    "#                 destino.                          #\n",
    "#     - name: Dirección y/o nombre del archivo      #\n",
    "#             sin el .csv.                          #\n",
    "# Output:                                           #\n",
    "#      No retorna valores.                          #\n",
    "def save_data(data, labels_1, labels_2, name):\n",
    "    size_stack = len(data[0])\n",
    "    size_height = len(data[0][0])\n",
    "    total_data = len(data)\n",
    "    tuple_data = zip(data, labels_1, labels_2)\n",
    "\n",
    "    with open(name + '.csv', 'w') as archivo:\n",
    "        archivo.write('Total data: ' + str(total_data) + '\\n')\n",
    "        archivo.write('Stacks:' + str(size_stack) + ',Height:' + str(size_height) + '\\n')\n",
    "        archivo.write('\\n')\n",
    "\n",
    "        for matrix, label_1, label_2 in tuple_data:\n",
    "            lista_stack = matrix.flatten()\n",
    "            archivo.write('matrix:' + str(lista_stack.tolist())[1:-1] + '\\n')\n",
    "            archivo.write('label_1:' + str(label_1.tolist())[1:-1] + '\\n')\n",
    "            archivo.write('label_2:' + str(label_2.tolist())[1:-1] + '\\n')\n",
    "            archivo.write('\\n')\n",
    "\n",
    "        archivo.close()"
   ],
   "metadata": {
    "collapsed": false
   }
  },
  {
   "cell_type": "code",
   "execution_count": null,
   "outputs": [],
   "source": [
    "#************** | load_data() | ************#\n",
    "# El proposito de esta función es cargar    #\n",
    "# los datos almacenados en un csv para el   #\n",
    "# entrenamiento de la red neuronal.         #\n",
    "#                                           #\n",
    "# Input:                                    #\n",
    "#     - name: Nombre del archivo con su     #\n",
    "#             dirección correspondiente     #\n",
    "#             sin el .csv.                  #\n",
    "#                                           #\n",
    "# Output:                                   #\n",
    "#      Retorna 3 arreglos, el primero       #\n",
    "#      corresponde a una lista de estados,  #\n",
    "#      el segundo a una lista de labels     #\n",
    "#      de stacks de origen y por último una #\n",
    "#      lista de posibles stacks de destino. #\n",
    "def load_data(name):\n",
    "    data = []\n",
    "    labels_1 = []\n",
    "    labels_2 = []\n",
    "\n",
    "    with open(name + '.csv', 'r') as archivo:\n",
    "        total = int(archivo.readline().split(':')[1])\n",
    "        line = archivo.readline().split(':')\n",
    "        size_stacks = int(line[1].split(',')[0])\n",
    "        size_height = int(line[2])\n",
    "        archivo.readline()\n",
    "\n",
    "        for i in range(total):\n",
    "            matrix = archivo.readline().split(':')[1].split(',')\n",
    "            matrix = np.array(matrix, dtype= float)\n",
    "            matrix = np.reshape(matrix, (size_stacks, size_height))\n",
    "\n",
    "            label_1 = archivo.readline().split(':')[1].split(',')\n",
    "            label_1 = np.array(label_1, dtype= float)\n",
    "            label_2 = archivo.readline().split(':')[1].split(',')\n",
    "            label_2 = np.array(label_2, dtype= float)\n",
    "\n",
    "            data.append(matrix)\n",
    "            labels_1.append(label_1)\n",
    "            labels_2.append(label_2)\n",
    "\n",
    "            archivo.readline()\n",
    "\n",
    "    return np.stack(data), np.stack(labels_1), np.stack(labels_2)"
   ],
   "metadata": {
    "collapsed": false
   }
  },
  {
   "cell_type": "markdown",
   "source": [
    "# Generador de data"
   ],
   "metadata": {
    "collapsed": false
   }
  },
  {
   "cell_type": "code",
   "execution_count": null,
   "outputs": [],
   "source": [
    "# Cantidad de stacks\n",
    "S = 5#@param {type:'slider',min:1,max:1000,steps:1}\n",
    "\n",
    "# Altura de la bahía\n",
    "H = 7#@param {type:'slider',min:1,max:1000,steps:1}\n",
    "\n",
    "# Número máximo de prioridad\n",
    "MPC = 32 #@param {type:'slider',min:1,max:1000,steps:1}\n",
    "\n",
    "# Cantida casos de entrenamiento\n",
    "N = 10000 #@param {type:'slider',min:1,max:100000,steps:1}\n",
    "\n",
    "X_train, y_train_1, y_train_2 = create_different_states(S, H, MPC, N)"
   ],
   "metadata": {
    "collapsed": false
   }
  },
  {
   "cell_type": "code",
   "execution_count": null,
   "outputs": [],
   "source": [
    "# Cantidad de stacks\n",
    "S2 = 3 #@param {type:'slider',min:1,max:100,steps:1}\n",
    "\n",
    "# Altura de la bahía\n",
    "H2 = 7 #@param {type:'slider',min:1,max:100,steps:1}\n",
    "\n",
    "# Número máximo de prioridad\n",
    "MPC2 = 12 #@param {type:'slider',min:1,max:100,steps:1}\n",
    "\n",
    "# Cantida casos de prueba\n",
    "N2 = 500 #@param {type:'slider',min:1,max:10000,steps:1}\n",
    "\n",
    "X_test, y_test_1, y_test_2 = create_different_states(S2, H2, MPC2, N2)"
   ],
   "metadata": {
    "collapsed": false
   }
  }
 ],
 "metadata": {
  "kernelspec": {
   "display_name": "Python 3",
   "language": "python",
   "name": "python3"
  },
  "language_info": {
   "codemirror_mode": {
    "name": "ipython",
    "version": 2
   },
   "file_extension": ".py",
   "mimetype": "text/x-python",
   "name": "python",
   "nbconvert_exporter": "python",
   "pygments_lexer": "ipython2",
   "version": "2.7.6"
  }
 },
 "nbformat": 4,
 "nbformat_minor": 0
}
